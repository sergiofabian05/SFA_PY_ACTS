{
  "nbformat": 4,
  "nbformat_minor": 0,
  "metadata": {
    "colab": {
      "provenance": [],
      "authorship_tag": "ABX9TyNGvdM4G80TD+vF01ePCN+x",
      "include_colab_link": true
    },
    "kernelspec": {
      "name": "python3",
      "display_name": "Python 3"
    },
    "language_info": {
      "name": "python"
    }
  },
  "cells": [
    {
      "cell_type": "markdown",
      "metadata": {
        "id": "view-in-github",
        "colab_type": "text"
      },
      "source": [
        "<a href=\"https://colab.research.google.com/github/sergiofabian05/SFA_PY_ACTS/blob/main/SFA_PY_ACT7_0.ipynb\" target=\"_parent\"><img src=\"https://colab.research.google.com/assets/colab-badge.svg\" alt=\"Open In Colab\"/></a>"
      ]
    },
    {
      "cell_type": "markdown",
      "source": [
        "1.Función que utilice una lista con los nombres de tus mascotas, o artistas favoritos, (minimo 5, maximo 10) imprimir las cadenas y la cantidad de caracteres de cada cadena.\n",
        "EJEMPLO SALIDA:\n",
        "\n",
        "[0]SCARLETT --> 8 CARACTERES\n",
        "\n",
        "[1]GATINA --> 6 CARACTERES\n",
        "\n",
        "[2]PELUSA --> 6 CARACTERES\n",
        "\n",
        "[3]PELUSINA --> 8 CARACTERES\n",
        "\n",
        "[4]MILO --> 4 CARACTERES\n",
        "\n",
        "[5]KHALIFA --> 7 CARACTERES"
      ],
      "metadata": {
        "id": "hVAV4ywZM4E7"
      }
    },
    {
      "cell_type": "code",
      "execution_count": 6,
      "metadata": {
        "id": "wImkltwPMj2E"
      },
      "outputs": [],
      "source": [
        "def caracteres():\n",
        "    i = 1\n",
        "    lista = []\n",
        "    while True:\n",
        "        try:\n",
        "            nombre = input(f\"Ingresa el nombre {i} (fin para salir): \")\n",
        "            if nombre == \"fin\":\n",
        "                if i >= 5:\n",
        "                    i = 1\n",
        "                    cadena = len(lista)\n",
        "                    for cadena in lista:\n",
        "                        print (f\" {[i]}{cadena} --> {len(cadena)} CARACTERES\")\n",
        "                        i=i+1\n",
        "                    break\n",
        "                else:\n",
        "                    raise ValueError\n",
        "            elif not nombre.isalpha():\n",
        "                raise ValueError\n",
        "            if i >= 10:\n",
        "                i = 1\n",
        "                cadena = len(lista)\n",
        "                for cadena in lista:\n",
        "                    print (f\" {[i]}{cadena} --> {len(cadena)} CARACTERES\")\n",
        "                    i=i+1\n",
        "                break\n",
        "        except ValueError:\n",
        "            print(\"El nombre solo debe contener letras y ingresar un minimo de 5 nombres.\")\n",
        "            continue\n",
        "        else:\n",
        "            lista.append(nombre)\n",
        "            i = i + 1"
      ]
    },
    {
      "cell_type": "code",
      "source": [
        "caracteres()"
      ],
      "metadata": {
        "id": "Pe7LnPuuR7ra",
        "outputId": "7bc9facc-32b9-4ad3-eddf-3c4883bfa02b",
        "colab": {
          "base_uri": "https://localhost:8080/"
        }
      },
      "execution_count": 7,
      "outputs": [
        {
          "output_type": "stream",
          "name": "stdout",
          "text": [
            "Ingresa el nombre 1 (fin para salir): 2\n",
            "El nombre solo debe contener letras y ingresar un minimo de 5 nombres.\n",
            "Ingresa el nombre 1 (fin para salir): PEPE\n",
            "Ingresa el nombre 2 (fin para salir): JRFF\n",
            "Ingresa el nombre 3 (fin para salir): TYMY\n",
            "Ingresa el nombre 4 (fin para salir): JOSE\n",
            "Ingresa el nombre 5 (fin para salir): IVAN\n",
            "Ingresa el nombre 6 (fin para salir): FIN\n",
            "Ingresa el nombre 7 (fin para salir): fin\n",
            " [1]PEPE --> 4 CARACTERES\n",
            " [2]JRFF --> 4 CARACTERES\n",
            " [3]TYMY --> 4 CARACTERES\n",
            " [4]JOSE --> 4 CARACTERES\n",
            " [5]IVAN --> 4 CARACTERES\n",
            " [6]FIN --> 3 CARACTERES\n"
          ]
        }
      ]
    },
    {
      "cell_type": "markdown",
      "source": [
        "2.- Programa que utilice 2 funciones,\n",
        "\n",
        "Función que genere y regrese una lista con 10 números aleatorios entre el 30 y 50 (no repetidos).\n",
        "Función que reciba una lista , Imprimir la lista (Indice y Valor )\n",
        "\n",
        "\n",
        " Mandar llamar la función e imprimir toda la lista."
      ],
      "metadata": {
        "id": "rqgkwaY1MssU"
      }
    },
    {
      "cell_type": "code",
      "source": [
        "def list_random():\n",
        "    import random\n",
        "    lista = []\n",
        "    for i in range(10):\n",
        "        numero_aleatorio = random.randint(30, 50)\n",
        "        while numero_aleatorio in lista:\n",
        "            numero_aleatorio = random.randint(30, 50)\n",
        "        lista.append(numero_aleatorio)\n",
        "    return lista"
      ],
      "metadata": {
        "id": "7_LlEHxgNq2A"
      },
      "execution_count": null,
      "outputs": []
    },
    {
      "cell_type": "code",
      "source": [
        "def imprimir_list(lista):\n",
        "    carac = len(lista)\n",
        "    i = 1\n",
        "    for carac in lista:\n",
        "        print (f\" {[i]} --> {carac}\")\n",
        "        i=i+1"
      ],
      "metadata": {
        "id": "6qnMdaj0O6LU"
      },
      "execution_count": null,
      "outputs": []
    },
    {
      "cell_type": "code",
      "source": [
        "lista = []\n",
        "lista = list_random()\n",
        "imprimir_list(lista)"
      ],
      "metadata": {
        "colab": {
          "base_uri": "https://localhost:8080/"
        },
        "id": "AHNoOrwIPAk6",
        "outputId": "34067ed4-7637-45da-d112-aace01af22f2"
      },
      "execution_count": null,
      "outputs": [
        {
          "output_type": "stream",
          "name": "stdout",
          "text": [
            " [1] --> 49\n",
            " [2] --> 46\n",
            " [3] --> 36\n",
            " [4] --> 38\n",
            " [5] --> 37\n",
            " [6] --> 39\n",
            " [7] --> 43\n",
            " [8] --> 31\n",
            " [9] --> 47\n",
            " [10] --> 44\n"
          ]
        }
      ]
    },
    {
      "cell_type": "markdown",
      "source": [
        "3.- Escribe una función que reciba dos listas de números del mismo tamaño y calcule la suma de los elementos correspondientes de cada lista. (regresar una nueva lista) . Luego, muestra una lista con los resultados de cada suma. Nota: si las listas no son del mismo tamaño mandar msge y utilizar el tamaño de la lista mas pequeña)"
      ],
      "metadata": {
        "id": "Q9tZ-sLSNr_o"
      }
    },
    {
      "cell_type": "code",
      "source": [
        "def llenar_lista():\n",
        "    i = 1\n",
        "    lista = []\n",
        "    print(\"Ingresa un valor los valores o 0 Para salir\")\n",
        "    while True:\n",
        "        try:\n",
        "            nombre = int(input(f\"{i} --> \"))\n",
        "            if nombre == 0:\n",
        "                print(f\"El tamaño de la lista es: {len(lista)}\")\n",
        "                return lista\n",
        "                break\n",
        "        except ValueError:\n",
        "            print(\"Error: Ingresa solo números enteros\")\n",
        "            continue\n",
        "        else:\n",
        "            lista.append(nombre)\n",
        "            i = i + 1"
      ],
      "metadata": {
        "id": "jTYWtgA2NxDJ"
      },
      "execution_count": null,
      "outputs": []
    },
    {
      "cell_type": "code",
      "source": [
        "def Suma_list(lis1, lis2):\n",
        "    suma = []\n",
        "    tam1 = len(lis1)\n",
        "    tam2 = len(lis2)\n",
        "    if tam1 == tam2:\n",
        "        for i in range(tam1):\n",
        "            suma.append(lis1[i] + lis2[i])\n",
        "    elif tam1 > tam2:\n",
        "        print(f\"La lista 2 es la tiene {tam2} la suma tendra el mismo tamaño\")\n",
        "        for i in range(tam2):\n",
        "            suma.append(lis1[i] + lis2[i])\n",
        "    else:\n",
        "        print(f\"La lista 1 es la tiene {tam2} la suma tendra el mismo tamaño\")\n",
        "        for i in range(tam1):\n",
        "            suma.append(lis1[i] + lis2[i])\n",
        "    return suma"
      ],
      "metadata": {
        "id": "oVg_dStDPPAs"
      },
      "execution_count": null,
      "outputs": []
    },
    {
      "cell_type": "code",
      "source": [
        "lista_1 = []\n",
        "lista_2 = []\n",
        "lista_3 = []\n",
        "print(\"Llenar lista 1: \")\n",
        "lista_1 = llenar_lista()\n",
        "print(\"\\nLlenar lista 2: \")\n",
        "lista_2 = llenar_lista()\n",
        "print(\"\\nLa suma de las lista es: \")\n",
        "lista_3 = Suma_list(lista_1, lista_2)\n",
        "print(lista_3)"
      ],
      "metadata": {
        "id": "G6Qe8_S0PW4z"
      },
      "execution_count": null,
      "outputs": []
    },
    {
      "cell_type": "markdown",
      "source": [
        "4.- Escribe una función llamada eliminar_duplicados que reciba una lista como parámetro y elimine los elementos duplicados. El resultado debe ser una nueva lista sin duplicados. Pide al usuario que ingrese una lista y luego llama a la función eliminar_duplicados para mostrar la lista sin duplicados. (Solo Numeros enteros, validar)"
      ],
      "metadata": {
        "id": "AhoALomHNzEU"
      }
    },
    {
      "cell_type": "code",
      "source": [
        "def eliminar_duplicados(lista):\n",
        "    i = 0\n",
        "    tamaño = len(lista)\n",
        "    lista.sort()\n",
        "    for i in range(len(lista) - 2):\n",
        "        num1 = lista[i]\n",
        "        num2 = lista[i + 1]\n",
        "        if num1 == num2:\n",
        "            print(f\"Valor {lista[i+1]} duplicado\")\n",
        "            lista.pop(i+1)\n",
        "    print(f\"Lista final: {lista}\")"
      ],
      "metadata": {
        "id": "NKcCbULpN44Z"
      },
      "execution_count": 1,
      "outputs": []
    },
    {
      "cell_type": "code",
      "source": [
        "lista = []\n",
        "lista = llenar_lista()\n",
        "eliminar_duplicados(lista)"
      ],
      "metadata": {
        "id": "PuaH-_DkPiru"
      },
      "execution_count": null,
      "outputs": []
    },
    {
      "cell_type": "markdown",
      "source": [
        "5.- Escribe una función que calcule la media y la mediana de una lista de números enteros.\n",
        "\n",
        "La media es la suma de todos los elementos y dividido entre la cantidad de elementos\n",
        "\n",
        "La mediana es el valor que queda en la mitad de la lista cuando se ordena de forma ascendente. Si la lista tiene un número par de elementos, la mediana se calcula como el promedio de los dos valores centrales. Puedes utilizar el método sort() para ordenar la lista y luego calcular la mediana según el tamaño de la lista."
      ],
      "metadata": {
        "id": "jujUaho5N8OT"
      }
    },
    {
      "cell_type": "code",
      "source": [
        "def media_mediana(lista):\n",
        "    lista.sort()\n",
        "    media = 0\n",
        "    for i in range(len(lista)):\n",
        "        media = media + lista[i]\n",
        "    media = media / len(lista)\n",
        "    print(f\"La media es: {media}\")\n",
        "\n",
        "    lista.sort()\n",
        "    longitud = len(lista)\n",
        "    mitad = longitud // 2\n",
        "    if longitud % 2 == 0:\n",
        "        mediana = (lista[mitad] + lista[mitad - 1]) / 2\n",
        "        print(f\"La mediana es: {mediana}\")\n",
        "    else:\n",
        "        print(f\"La mediana es: {lista[mitad]}\")"
      ],
      "metadata": {
        "id": "NQgVjYgsOA9M"
      },
      "execution_count": null,
      "outputs": []
    },
    {
      "cell_type": "code",
      "source": [
        "lista = []\n",
        "lista = llenar_lista()\n",
        "media_mediana(lista)"
      ],
      "metadata": {
        "colab": {
          "base_uri": "https://localhost:8080/"
        },
        "id": "s15lnEb3Pyis",
        "outputId": "f4aee0af-b690-4f89-e549-8d4c310c7837"
      },
      "execution_count": null,
      "outputs": [
        {
          "output_type": "stream",
          "name": "stdout",
          "text": [
            "Ingresa un valor los valores o 0 Para salir\n",
            "1 --> 10\n",
            "2 --> 9\n",
            "3 --> 8\n",
            "4 --> 7\n",
            "5 --> 2\n",
            "6 --> 4\n",
            "7 --> 6\n",
            "8 --> 5\n",
            "9 --> 7\n",
            "10 --> 9\n",
            "11 --> 11\n",
            "12 --> 13\n",
            "13 --> 16\n",
            "14 --> 18\n",
            "15 --> 19\n",
            "16 --> 20\n",
            "17 --> 23\n",
            "18 --> 24\n",
            "19 --> 25\n",
            "20 --> 23\n",
            "21 --> \n",
            "Error: Ingresa solo números enteros\n",
            "21 --> 0\n",
            "El tamaño de la lista es: 20\n",
            "La media es: 12.95\n",
            "La mediana es: 10.5\n"
          ]
        }
      ]
    }
  ]
}