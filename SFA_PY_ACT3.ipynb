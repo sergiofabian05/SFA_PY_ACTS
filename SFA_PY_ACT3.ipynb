{
  "nbformat": 4,
  "nbformat_minor": 0,
  "metadata": {
    "colab": {
      "provenance": [],
      "authorship_tag": "ABX9TyOVGpIvJsk6QBv2HNMbGTHP",
      "include_colab_link": true
    },
    "kernelspec": {
      "name": "python3",
      "display_name": "Python 3"
    },
    "language_info": {
      "name": "python"
    }
  },
  "cells": [
    {
      "cell_type": "markdown",
      "metadata": {
        "id": "view-in-github",
        "colab_type": "text"
      },
      "source": [
        "<a href=\"https://colab.research.google.com/github/sergiofabian05/SFA_PY_ACTS/blob/main/SFA_PY_ACT3.ipynb\" target=\"_parent\"><img src=\"https://colab.research.google.com/assets/colab-badge.svg\" alt=\"Open In Colab\"/></a>"
      ]
    },
    {
      "cell_type": "markdown",
      "source": [
        "SFA_PY_1_ACT3\n",
        "\n",
        "1. ALgoritmo que lea 3 calificaciones calcule el promedio del alumno"
      ],
      "metadata": {
        "id": "wvIF5-Sjq2Wz"
      }
    },
    {
      "cell_type": "code",
      "execution_count": null,
      "metadata": {
        "colab": {
          "base_uri": "https://localhost:8080/"
        },
        "id": "4WJsLbyBjqkW",
        "outputId": "c56c5f9c-1405-4338-f5da-9cc6fc0220de"
      },
      "outputs": [
        {
          "output_type": "stream",
          "name": "stdout",
          "text": [
            "dame la primera calificacion:45\n",
            "dame la segunda calificacion:67\n",
            "dame la tercera calificacion:65\n",
            "TUPROMEDIO ES:59.0EXTRAORDINARIO\n"
          ]
        }
      ],
      "source": [
        "c1=int(input(\"dame la primera calificacion:\"))\n",
        "c2=int(input(\"dame la segunda calificacion:\"))\n",
        "c3=int(input(\"dame la tercera calificacion:\"))\n",
        "\n",
        "p=(c1+c2+c3)/3\n",
        "if (p<30):\n",
        "  print(f\"TU PROMEDIO ES:{p}REPETIR\")\n",
        "elif (p<60):\n",
        "  print(f\"TUPROMEDIO ES:{p}EXTRAORDINARIO\")\n",
        "elif (p<70):\n",
        "  print(f\"TU PROMEDIO ES:{p}SUFICIENTE\")\n",
        "elif (p<80):\n",
        "  print(f\"TU PROMEDIO ES:{p}REGULAR\")\n",
        "elif(p<90):\n",
        "  print(f\"TU PROMEDIO:{p}BIEN\")\n",
        "elif(p<98):\n",
        "  print(f\"TU PROMEDIO:{p}MUY BIEN\")\n",
        "elif(p<100):\n",
        "  print(f\"TU PROMEDIO:{p}EXCELENTEn\")\n",
        "else:\n",
        "  print(\"ERROR\")\n",
        "\n"
      ]
    },
    {
      "cell_type": "markdown",
      "source": [
        "SFA_PY_2_ACT3\n",
        "\n",
        "2.Algoritmo que sirva para calcular el salario semanal de un trabajador donde se obtiene como dato de entrada las horas semanales trabajadas, el salario por hora.\n",
        "\n",
        "El programa deberá calcular el salario normal, salario extra y salario total, considerando lo siguiente:\n",
        "\n",
        "-Jornada Normal de 40 horas.\n",
        "-El salario normal se considera las horas trabajadas menores o igual a la jornada normal\n",
        "-Salario extra se considera las horas trabajadas mayores a la jornada normal y se pagan dobles las primeras 9 y triples a partir de la décima hora extra"
      ],
      "metadata": {
        "id": "RFfcFvBCwJfa"
      }
    },
    {
      "cell_type": "code",
      "source": [
        "def css(ht, sph):\n",
        "    jn = 40\n",
        "    if ht <= jn:\n",
        "        sn=ht*sph\n",
        "        se=0\n",
        "    else:\n",
        "      he=ht-jn\n",
        "      sn=jn*sph\n",
        "      se=(min(he, 9) * sph * 2) + (max(0, he - 9) * sph * 3)\n",
        "\n",
        "    st=sn+se\n",
        "\n",
        "    print(f\"Salario por hora: {sph}\")\n",
        "    print(f\"Horas Trabajadas: {ht}\")\n",
        "    print(f\"Salario normal: {sn}\")\n",
        "    print(f\"Salario extra: {se}\")\n",
        "    print(f\"Salario Total: {st}\")\n",
        "\n",
        "ht=float(input(\"Ingrese las horas trabajadas: \"))\n",
        "sph =float(input(\"Ingrese el salario por hora: \"))\n",
        "css(ht, sph)"
      ],
      "metadata": {
        "id": "f8NECxJZwIRD",
        "colab": {
          "base_uri": "https://localhost:8080/"
        },
        "outputId": "c025a64f-ce3d-46ae-dae6-c30c2bf760cd"
      },
      "execution_count": null,
      "outputs": [
        {
          "output_type": "stream",
          "name": "stdout",
          "text": [
            "Ingrese las horas trabajadas: 40\n",
            "Ingrese el salario por hora: 200\n",
            "Salario por hora: 200.0\n",
            "Horas Trabajadas: 40.0\n",
            "Salario normal: 8000.0\n",
            "Salario extra: 0\n",
            "Salario Total: 8000.0\n"
          ]
        }
      ]
    },
    {
      "cell_type": "markdown",
      "source": [
        "SFA_PY_3_ACT3\n",
        "\n",
        "3.- Algoritmo que sirva para desplegar el Total de una llamada telefónica donde se pide como datos de entrada los minutos y el tipo de llamada, se cobra de la siguiente manera:\n",
        "\n",
        "1.- Llamada Local $3.00 sin límite de tiempo\n",
        "\n",
        "2.- Llamada Nacional $7.00 por los 3 primeros minutos y $2.00 minuto adicional\n",
        "\n",
        "3.- Llamada Internacional $9.00 por los 2 primeros minutos y $4.00 minuto adicional\n",
        "\n",
        " Desplegar, Subtotal,Iva (16%) y Total.\n",
        "\n"
      ],
      "metadata": {
        "id": "2Cks_PfQQYNI"
      }
    },
    {
      "cell_type": "code",
      "source": [
        "def ccll(m, tll):\n",
        "    sbt=0\n",
        "\n",
        "    if tll==1:\n",
        "        sbt=3.00\n",
        "    elif tll==2:\n",
        "        if m <= 3:\n",
        "            sbt=7.00\n",
        "        else:\n",
        "            sbt=7.00+(m-3)*2.00\n",
        "    elif tll==3:\n",
        "        if m <= 2:\n",
        "            sbt=9.00\n",
        "        else:\n",
        "            sbt=9.00+(m-2)*4.00\n",
        "\n",
        "    iva=sbt*0.16\n",
        "    t=sbt+iva\n",
        "\n",
        "    print(f\"Subtotal: $ {sbt}\")\n",
        "    print(f\"IVA (16%): $ {iva}\")\n",
        "    print(f\"Total: ${ t}\")\n",
        "\n",
        "m=int(input(\"minutos de la llamada: \"))\n",
        "tll=int(input(\"tipo de llamada (1: Local, 2: Nacional, 3: Internacional): \"))\n",
        "ccll(m, tll)"
      ],
      "metadata": {
        "id": "yf69h62NQoK5",
        "colab": {
          "base_uri": "https://localhost:8080/"
        },
        "outputId": "eda68f92-7b06-4481-93fe-b668eee38a30"
      },
      "execution_count": null,
      "outputs": [
        {
          "output_type": "stream",
          "name": "stdout",
          "text": [
            "minutos de la llamada: 34\n",
            "tipo de llamada (1: Local, 2: Nacional, 3: Internacional): 3\n",
            "Subtotal: $ 137.0\n",
            "IVA (16%): $ 21.92\n",
            "Total: $ 158.92000000000002\n"
          ]
        }
      ]
    },
    {
      "cell_type": "markdown",
      "source": [
        "SFA_PY_4_ACT3\n",
        "\n",
        "4.- Algoritmo que sirva para calcular el Total a pagar por consumo de agua, donde el dato de entrada son los M3 de agua consumidos, Tomar en cuenta que se cobra escalonada de la Siguiente manera:\n",
        "\n",
        "Rango1: 0 al 4 M3 $50 x facturación sin importar cuánto consumió en este rango\n",
        "\n",
        "Rango2: 5 a 15 M3 $8.00 x M3\n",
        "\n",
        "Rango3: 16 a 50 M3 $10.00 x M3\n",
        "\n",
        "Rango4: 51 M3 en adelante $11.00 x M3\n",
        "\n",
        "Nota: Desplegar SubTotal, Iva(16%), y Total a pagar."
      ],
      "metadata": {
        "id": "AcDSQxO-QpRA"
      }
    },
    {
      "cell_type": "code",
      "source": [
        "m3_consumidos = float(input(\"Ingrese los M3 de agua consumidos: \"))\n",
        "\n",
        "if m3_consumidos <= 4:\n",
        "    st = 50\n",
        "elif m3_consumidos <= 15:\n",
        "    st = 50 + 8 * (m3_consumidos - 4)\n",
        "elif m3_consumidos <= 50:\n",
        "    st = 50 + 8 * (15 - 4) + 10 * (m3_consumidos - 15)\n",
        "else:\n",
        "    st = 50 + 8 * (15 - 4) + 10 * (50 - 15) + 11 * (m3_consumidos - 50)\n",
        "\n",
        "iva = st * 0.16\n",
        "t = st + iva\n",
        "\n",
        "print(f\"Subtotal: {st}\")\n",
        "print(f\"IVA (16%): {iva}\")\n",
        "print(f\"Total a pagar: {t}\")\n"
      ],
      "metadata": {
        "id": "yJNjGkFwQ1hy",
        "colab": {
          "base_uri": "https://localhost:8080/"
        },
        "outputId": "d8e8f378-234a-4f3c-dcd6-67c9fb208705"
      },
      "execution_count": null,
      "outputs": [
        {
          "output_type": "stream",
          "name": "stdout",
          "text": [
            "Ingrese los M3 de agua consumidos: 45\n",
            "Subtotal: 438.0\n",
            "IVA (16%): 70.08\n",
            "Total a pagar: 508.08\n"
          ]
        }
      ]
    },
    {
      "cell_type": "markdown",
      "source": [
        "SFA_PY_5_ACT3\n",
        "\n",
        "5- En la materia de Metodología de la programación se aplican 5 exámenes, calcular el promedio final de la materia donde la calificación menor de los exámenes se anula y el promedio se calcula en base a 4 exámenes.\n",
        "\n",
        "Desplegar el promedio final."
      ],
      "metadata": {
        "id": "2IQuh7XzQ3XP"
      }
    },
    {
      "cell_type": "code",
      "source": [
        "ex1 = float(input(\"calificación del primer examen: \"))\n",
        "ex2 = float(input(\"calificación del segundo examen: \"))\n",
        "ex3 = float(input(\"calificación del tercer examen: \"))\n",
        "ex4 = float(input(\"calificación del cuarto examen: \"))\n",
        "ex5 = float(input(\"calificación del quinto examen: \"))\n",
        "\n",
        "cal_minima = min(ex1, ex2, ex3, ex4, ex5)\n",
        "\n",
        "prom_final = (ex1 + ex2 + ex3 + ex4 + ex5 - cal_minima) / 4\n",
        "\n",
        "print(f\"El promedio final de la materia es: {prom_final}\")"
      ],
      "metadata": {
        "id": "ss2P4URUQXbM",
        "colab": {
          "base_uri": "https://localhost:8080/"
        },
        "outputId": "1fc504af-3826-4ff7-83b2-292b922c559b"
      },
      "execution_count": null,
      "outputs": [
        {
          "output_type": "stream",
          "name": "stdout",
          "text": [
            "calificación del primer examen: 56\n",
            "calificación del segundo examen: 76\n",
            "calificación del tercer examen: 56\n",
            "calificación del cuarto examen: 6\n",
            "calificación del quinto examen: 56\n",
            "El promedio final de la materia es: 61.0\n"
          ]
        }
      ]
    },
    {
      "cell_type": "markdown",
      "source": [
        "SFA_PY_6_ACT3\n",
        "\n",
        "6.- Algoritmo que sirva para el juego del CHINCHAMPU (Piedra, Papel, Tijera) para 1 jugador y la computadora, (usar condición anidada)"
      ],
      "metadata": {
        "id": "veqeD2b7RHPA"
      }
    },
    {
      "cell_type": "code",
      "source": [
        "import random\n",
        "\n",
        "jugador = input(\"Ingrese su jugada (piedra, papel o tijera): \").lower()\n",
        "computadora = random.choice([\"piedra\", \"papel\", \"tijera\"])\n",
        "\n",
        "print(\"La computadora eligió:\", computadora)\n",
        "\n",
        "if jugador == computadora:\n",
        "    print(\"¡Es un empate!\")\n",
        "elif (jugador == \"piedra\" and computadora == \"tijera\") or \\\n",
        "     (jugador == \"papel\" and computadora == \"piedra\") or \\\n",
        "     (jugador == \"tijera\" and computadora == \"papel\"):\n",
        "    print(\"¡Ganaste!\")\n",
        "else:\n",
        "    print(\"¡La computadora gana!\")"
      ],
      "metadata": {
        "id": "eY703gyggC03",
        "colab": {
          "base_uri": "https://localhost:8080/"
        },
        "outputId": "6b1bb8e9-723b-460a-f595-f3a0d4044447"
      },
      "execution_count": null,
      "outputs": [
        {
          "output_type": "stream",
          "name": "stdout",
          "text": [
            "Ingrese su jugada (piedra, papel o tijera): tijera\n",
            "La computadora eligió: papel\n",
            "¡Ganaste!\n"
          ]
        }
      ]
    },
    {
      "cell_type": "markdown",
      "source": [
        "SFA_PY_7_ACT3\n",
        "\n",
        "7.- Algoritmo que sirva para el juego del CHINCHAMPU (Piedra, Papel, Tijera) para 1 jugador y la computadora, (usar selección múltiple)"
      ],
      "metadata": {
        "id": "ALZ-iRRORd3-"
      }
    },
    {
      "cell_type": "code",
      "source": [
        "import random\n",
        "\n",
        "jugador = input(\"Ingrese su jugada (piedra, papel o tijera): \").lower()\n",
        "computadora = random.choice([\"piedra\", \"papel\", \"tijera\"])\n",
        "\n",
        "print(\"La computadora eligió:\", computadora)\n",
        "\n",
        "resultado = \"\"\n",
        "\n",
        "if jugador == computadora:\n",
        "    resultado = \"¡Es un empate!\"\n",
        "elif jugador == \"piedra\":\n",
        "    if computadora == \"tijera\":\n",
        "        resultado = \"¡Ganaste!\"\n",
        "    else:\n",
        "        resultado = \"¡La computadora gana!\"\n",
        "elif jugador == \"papel\":\n",
        "    if computadora == \"piedra\":\n",
        "        resultado = \"¡Ganaste!\"\n",
        "    else:\n",
        "        resultado = \"¡La computadora gana!\"\n",
        "else:\n",
        "    if computadora == \"papel\":\n",
        "        resultado = \"¡Ganaste!\"\n",
        "    else:\n",
        "        resultado = \"¡La computadora gana!\"\n",
        "\n",
        "print(resultado)\n"
      ],
      "metadata": {
        "id": "b6NdLn3sREHq",
        "colab": {
          "base_uri": "https://localhost:8080/"
        },
        "outputId": "d5bac928-1689-4dce-df43-cd3acf3c93e9"
      },
      "execution_count": null,
      "outputs": [
        {
          "output_type": "stream",
          "name": "stdout",
          "text": [
            "Ingrese su jugada (piedra, papel o tijera): piedra\n",
            "La computadora eligió: papel\n",
            "¡La computadora gana!\n"
          ]
        }
      ]
    },
    {
      "cell_type": "markdown",
      "source": [
        "SFA_PY_8_ACT3\n",
        "\n",
        "8.- Una tienda de electrónica ofrece descuentos a sus clientes, dependiendo del tipo de producto que compren. Si el cliente compra una computadora, tiene un descuento del 5% en el precio de la computadora y un 10% de descuento en una impresora si la compra junto con la computadora. Si el cliente compra una televisión, tiene un descuento del 7% en el precio de la televisión y un 15% de descuento en una barra de sonido si la compra junto con la televisión. Si el cliente compra una consola de videojuegos, tiene un descuento del 10% en el precio de la consola y un 20% de descuento en un juego si lo compra junto con la consola. Escribe un programa que calcule el precio a pagar por un cliente, tomando en cuenta los descuentos correspondientes."
      ],
      "metadata": {
        "id": "_M9ya_f2RisR"
      }
    },
    {
      "cell_type": "code",
      "source": [
        "prod = input(\"El producto es (computadora, televisión o consola de videojuegos): \").lower()\n",
        "precio_prod = float(input(\"Precio del producto: \"))\n",
        "\n",
        "des= 0\n",
        "\n",
        "if prod == \"computadora\":\n",
        "    des += 0.05 * precio_prod\n",
        "    resp = input(\"¿Desea comprar una impresora junto con la computadora? (s/n): \").lower()\n",
        "    if resp == \"s\":\n",
        "        des+= 0.10 * precio_prod\n",
        "elif prod == \"televisión\":\n",
        "    des+= 0.07 * precio_prod\n",
        "    resp = input(\"¿Desea comprar una barra de sonido junto con la televisión? (s/n): \").lower()\n",
        "    if resp == \"s\":\n",
        "        des += 0.15 * precio_prod\n",
        "elif prod == \"consola de videojuegos\":\n",
        "    des += 0.10 * precio_prod\n",
        "    resp = input(\"¿Desea comprar un juego junto con la consola de videojuegos? (s/n): \").lower()\n",
        "    if resp == \"s\":\n",
        "        des += 0.20 * precio_prod\n",
        "\n",
        "pre_final = precio_prod - des\n",
        "\n",
        "print(f\"El precio a pagar es: {pre_final}\")\n"
      ],
      "metadata": {
        "id": "1aB-VvVQRRXA",
        "colab": {
          "base_uri": "https://localhost:8080/"
        },
        "outputId": "911cd61b-d86c-43d0-ee4b-b24bde91cd7a"
      },
      "execution_count": null,
      "outputs": [
        {
          "output_type": "stream",
          "name": "stdout",
          "text": [
            "El producto es (computadora, televisión o consola de videojuegos): 456\n",
            "Precio del producto: 456\n",
            "El precio a pagar es: 456.0\n"
          ]
        }
      ]
    },
    {
      "cell_type": "markdown",
      "source": [
        "SFA_PY_9_ACT3\n",
        "\n",
        "9.- En una tienda de ropa, los precios de los productos cambian dependiendo de la temporada. Durante la temporada de verano, todos los productos tienen un descuento del 20%. Durante la temporada de invierno, los productos con etiqueta roja tienen un descuento del 30% y los productos con etiqueta verde tienen un descuento del 15%. Durante la temporada de primavera y otoño, los productos con etiqueta amarilla tienen un descuento del 10%. Escribe un programa que calcule el precio a pagar por un cliente, tomando en cuenta los descuentos correspondientes."
      ],
      "metadata": {
        "id": "FcKkYUzaRZa3"
      }
    },
    {
      "cell_type": "code",
      "source": [
        "tempo = input(\"Ingrese la temporada (verano, invierno, primavera u otoño): \").lower()\n",
        "etiqueta = input(\"Ingrese el color de la etiqueta del producto (roja, verde o amarilla): \").lower()\n",
        "precio_prod = float(input(\"Ingrese el precio del producto: \"))\n",
        "\n",
        "descuento = 0\n",
        "\n",
        "if tempo == \"verano\":\n",
        "    descuento += 0.20 * precio_prod\n",
        "elif tempo == \"invierno\":\n",
        "    if etiqueta == \"roja\":\n",
        "        descuento += 0.30 * precio_prod\n",
        "    elif etiqueta == \"verde\":\n",
        "        descuento += 0.15 * precio_prod\n",
        "elif tempo == \"primavera\" or tempo == \"otoño\":\n",
        "    if etiqueta == \"amarilla\":\n",
        "        descuento += 0.10 * precio_prod\n",
        "\n",
        "pre_final = precio_prod - descuento\n",
        "\n",
        "print(f\"El precio a pagar es: {pre_final}\")"
      ],
      "metadata": {
        "id": "ETBgoVZhRRtA",
        "colab": {
          "base_uri": "https://localhost:8080/"
        },
        "outputId": "01bd7820-3af9-4f1b-a2b0-1627b9bbd0c7"
      },
      "execution_count": null,
      "outputs": [
        {
          "output_type": "stream",
          "name": "stdout",
          "text": [
            "Ingrese la temporada (verano, invierno, primavera u otoño): verano\n",
            "Ingrese el color de la etiqueta del producto (roja, verde o amarilla): verde\n",
            "Ingrese el precio del producto: 345\n",
            "El precio a pagar es: 276.0\n"
          ]
        }
      ]
    },
    {
      "cell_type": "markdown",
      "source": [
        "SFA_PY_10_ACT3\n",
        "\n",
        "10.- Un restaurante ofrece descuentos a sus clientes, dependiendo del día de la semana y del tipo de menú que pidan. Los lunes, los clientes que pidan el menú del día tienen un descuento del 10%. Los martes, los clientes que pidan el menú infantil tienen un descuento del 20%. Los miércoles, los clientes que pidan el menú vegetariano tienen un descuento del 15%. Los jueves, los clientes que pidan el menú del chef tienen un descuento del 5%. Los viernes, los clientes que pidan el menú del día tienen un descuento del 5%. Los sábados y domingos no hay descuentos. Escribe un programa que calcule el precio a pagar por un cliente, tomando en cuenta los descuentos correspondientes.\n",
        "\n"
      ],
      "metadata": {
        "id": "s5Rtdv4BRsye"
      }
    },
    {
      "cell_type": "code",
      "source": [
        "dia_semana = input(\"El día de la semana: \").lower()\n",
        "tipo_menu = input(\"Tipo de menú (del día, infantil, vegetariano o chef): \").lower()\n",
        "precio_menu = float(input(\"Ingrese el precio del menú: \"))\n",
        "\n",
        "des = 0\n",
        "\n",
        "if dia_semana == \"lunes\":\n",
        "    if tipo_menu == \"del día\":\n",
        "        des = 0.10 * precio_menu\n",
        "elif dia_semana == \"martes\":\n",
        "    if tipo_menu == \"infantil\":\n",
        "        des = 0.20 * precio_menu\n",
        "elif dia_semana == \"miércoles\":\n",
        "    if tipo_menu == \"vegetariano\":\n",
        "        des = 0.15 * precio_menu\n",
        "elif dia_semana == \"jueves\":\n",
        "    if tipo_menu == \"chef\":\n",
        "        des = 0.05 * precio_menu\n",
        "elif dia_semana == \"viernes\":\n",
        "    if tipo_menu == \"del día\":\n",
        "        des = 0.05 * precio_menu\n",
        "\n",
        "precio_final = precio_menu - des\n",
        "\n",
        "print(f\"El precio a pagar es: {pre_final}\")\n"
      ],
      "metadata": {
        "id": "yfV6xLhrRSQQ",
        "colab": {
          "base_uri": "https://localhost:8080/"
        },
        "outputId": "61ba5d2b-5c07-42d1-f945-8fbcfaadcfbd"
      },
      "execution_count": null,
      "outputs": [
        {
          "output_type": "stream",
          "name": "stdout",
          "text": [
            "El día de la semana: 56\n",
            "Tipo de menú (del día, infantil, vegetariano o chef): 54\n",
            "Ingrese el precio del menú: 4\n",
            "El precio a pagar es: 4.0\n"
          ]
        }
      ]
    }
  ]
}