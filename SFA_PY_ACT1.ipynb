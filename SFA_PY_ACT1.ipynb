{
  "nbformat": 4,
  "nbformat_minor": 0,
  "metadata": {
    "colab": {
      "provenance": [],
      "authorship_tag": "ABX9TyM/OwrvfuesBgGlD9nCyx0Q",
      "include_colab_link": true
    },
    "kernelspec": {
      "name": "python3",
      "display_name": "Python 3"
    },
    "language_info": {
      "name": "python"
    }
  },
  "cells": [
    {
      "cell_type": "markdown",
      "metadata": {
        "id": "view-in-github",
        "colab_type": "text"
      },
      "source": [
        "<a href=\"https://colab.research.google.com/github/sergiofabian05/SFA_PY_ACTS/blob/main/SFA_PY_ACT1.ipynb\" target=\"_parent\"><img src=\"https://colab.research.google.com/assets/colab-badge.svg\" alt=\"Open In Colab\"/></a>"
      ]
    },
    {
      "cell_type": "markdown",
      "source": [
        "ACTVIDAD 1\n",
        "\n",
        "***SERGIO FABIAN AGUIAR***"
      ],
      "metadata": {
        "id": "6LgDU_cRg8Kh"
      }
    },
    {
      "cell_type": "markdown",
      "source": [
        "1.programa de phyton que lea dos números enteros, usar una condición y analizar cual de los dos números es el mayor"
      ],
      "metadata": {
        "id": "Pm0q33AphdNo"
      }
    },
    {
      "cell_type": "code",
      "execution_count": 2,
      "metadata": {
        "colab": {
          "base_uri": "https://localhost:8080/",
          "height": 0
        },
        "id": "uskBaZRkgwbu",
        "outputId": "216ef1c0-2716-45dd-f96a-c4091001e1ea"
      },
      "outputs": [
        {
          "output_type": "stream",
          "name": "stdout",
          "text": [
            "ingresar primer numero: 3\n",
            "ingresar segundo numero: 4\n",
            "el numero mayor es: 4\n"
          ]
        }
      ],
      "source": [
        "num1= int(input(\"ingresar primer numero: \"))\n",
        "num2= int(input(\"ingresar segundo numero: \"))\n",
        "if num1 == num2: print(\"los numeros son iguales\")\n",
        "else:\n",
        "     if num1 > num2:\n",
        "\n",
        "        print(\"el numero mayor es:\",num1)\n",
        "\n",
        "     else: print(\"el numero mayor es:\",num2 )"
      ]
    },
    {
      "cell_type": "markdown",
      "source": [
        "2.Programa de phyton algoritmo que lea 4 calificaciones de un alumno, calcular y desplegar su promedio acompañado de la leyenda \"APROBADO\" o \"REPROBADO\""
      ],
      "metadata": {
        "id": "67ykYjgsh9Fq"
      }
    },
    {
      "cell_type": "code",
      "source": [
        "cali1=int(input(\"Ingresar primera calificación:\"))\n",
        "cali2=int(input( \"Ingresar segunda calificación:\"))\n",
        "cali3=int(input(\"Ingresar tercera calificación:\"))\n",
        "cali4=int(input(\"Ingresar cuarta calificación:\"))\n",
        "pro= (cali1+cali2+cali3+cali4)/4\n",
        "if pro >100: print(\"calificacion no valida\")\n",
        "else:\n",
        "  if pro>=60: print(\"HAS APROBADO TU CALIFICACION ES:\",pro)\n",
        "\n",
        "  else: print(\"HAS REPROBADO TU CALIFICACION ES:\",pro)"
      ],
      "metadata": {
        "colab": {
          "base_uri": "https://localhost:8080/",
          "height": 0
        },
        "id": "G0axqd8Sh9M6",
        "outputId": "3a62f787-9d07-4eb0-d9b3-083865943670"
      },
      "execution_count": 4,
      "outputs": [
        {
          "output_type": "stream",
          "name": "stdout",
          "text": [
            "Ingresar primera calificación:67\n",
            "Ingresar segunda calificación:78\n",
            "Ingresar tercera calificación:76\n",
            "Ingresar cuarta calificación:56\n",
            "HAS APROBADO TU CALIFICACION ES: 69.25\n"
          ]
        }
      ]
    },
    {
      "cell_type": "markdown",
      "source": [
        "3.Programa de phyton algoritmo que a traves de opciones (1.-HOMBRE 2.-MUJER) preguntar al usuario cual es su sexo y desplegar la leyenda \"HOMBRE\" o \"MUJER\""
      ],
      "metadata": {
        "id": "D_oJKNLgh9bB"
      }
    },
    {
      "cell_type": "code",
      "source": [
        "print(\"ingrese el numero que corresponde a tu sexo : \\n1 HOMBRE \\n2. MUJER\")\n",
        "sexo= int(input(\"\"))\n",
        "\n",
        "if sexo== 1: print(\"HOMBRE\")\n",
        "\n",
        "else:\n",
        "\n",
        "  if sexo== 2: print (\"MUJER\")\n",
        "\n",
        "  else:\n",
        "      print (\"ESTA OPCION NO ES VALIDA\")"
      ],
      "metadata": {
        "colab": {
          "base_uri": "https://localhost:8080/",
          "height": 0
        },
        "id": "A1KqfNHmiAEK",
        "outputId": "e4fd6bf2-499a-45e1-e5d4-b38cd4285dba"
      },
      "execution_count": 5,
      "outputs": [
        {
          "output_type": "stream",
          "name": "stdout",
          "text": [
            "ingrese el numero que corresponde a tu sexo : \n",
            "1 HOMBRE \n",
            "2. MUJER\n",
            "2\n",
            "MUJER\n"
          ]
        }
      ]
    },
    {
      "cell_type": "markdown",
      "source": [
        " 4.Programa en phyton que lea un número entero, y despliegue si el número \"PAR\" o \"IMPAR\""
      ],
      "metadata": {
        "id": "gsu4nTj6iAOy"
      }
    },
    {
      "cell_type": "code",
      "source": [
        "numero = int(input(\"Por favor, ingresa un número entero: \"))\n",
        "\n",
        "if numero % 2 == 0:\n",
        "    print(\"El número\", numero, \"es PAR.\")\n",
        "else:\n",
        "    print(\"El número\", numero, \"es IMPAR.\")"
      ],
      "metadata": {
        "colab": {
          "base_uri": "https://localhost:8080/",
          "height": 0
        },
        "id": "dLgf39sdh9ra",
        "outputId": "2121aff9-f740-45c3-eaf4-e9cbeeb9ced0"
      },
      "execution_count": 12,
      "outputs": [
        {
          "output_type": "stream",
          "name": "stdout",
          "text": [
            "Por favor, ingresa un número entero: 6\n",
            "El número 6 es PAR.\n"
          ]
        }
      ]
    },
    {
      "cell_type": "markdown",
      "source": [
        "5.Programa de pythom que lea 2 números enteros, usar una condición y analizar los 2 números y desplegar cual de los números es el mayor"
      ],
      "metadata": {
        "id": "RSJzLzLhh9zZ"
      }
    },
    {
      "cell_type": "code",
      "source": [
        "num1=int(input(\"Ingrese el primer numero: \"))\n",
        "num2=int(input( \"Ingrese el segundo numero:\"))\n",
        "\n",
        "if num1==num2:\n",
        "\n",
        "  print(\"son iguales los numeros\")\n",
        "\n",
        "elif num1>num2:\n",
        "\n",
        "  print(\"Numero\",num1, \"ES EL MAYOR\")\n",
        "\n",
        "else:\n",
        "\n",
        "  print(\"Numero\",num2 ,\"ES EL MAYOR\")"
      ],
      "metadata": {
        "colab": {
          "base_uri": "https://localhost:8080/",
          "height": 0
        },
        "id": "ZUeLP-tUh95T",
        "outputId": "d3dad860-7a53-414b-a3f9-ec95536a84b9"
      },
      "execution_count": 8,
      "outputs": [
        {
          "output_type": "stream",
          "name": "stdout",
          "text": [
            "Ingrese el primer numero: 3\n",
            "Ingrese el segundo numero:4\n",
            "Numero 4 ES EL MAYOR\n"
          ]
        }
      ]
    },
    {
      "cell_type": "markdown",
      "source": [
        "6.Programa de pythom que lee 4 califi caciones de un alumno, calcular y desplegar el promedio acompañado de la leyenda APROBADO oREPROBADO"
      ],
      "metadata": {
        "id": "A5arlIGkiEsR"
      }
    },
    {
      "cell_type": "code",
      "source": [
        "cali1=int(input(\"ingrese la primera calificación:\"))\n",
        "cali2=int(input(\"ingrese la segunda calificación:\"))\n",
        "cali3=int(input(\"ingrese la tercera calificación:\"))\n",
        "cali4=int(input(\"ingrese la segunda calificación:\"))\n",
        "\n",
        "pro=(cali1+cali2+cali3+cali4)/4\n",
        "\n",
        "if pro >100:\n",
        "\n",
        " print(\"CALIFICACION NO VALIDA\")\n",
        "\n",
        "elif pro>=60:\n",
        "\n",
        " print(\"TU PROMEDIO ES:\",pro,\"HAS APROBADO\")\n",
        "\n",
        "else:\n",
        "\n",
        " print(\"TU PROMEDIO ES:\",pro,\"HAS REPROBADO\")"
      ],
      "metadata": {
        "colab": {
          "base_uri": "https://localhost:8080/",
          "height": 0
        },
        "id": "EykRyuDciE9J",
        "outputId": "741faf29-b306-49f9-b8fe-92fb02f5e192"
      },
      "execution_count": 9,
      "outputs": [
        {
          "output_type": "stream",
          "name": "stdout",
          "text": [
            "ingrese la primera calificación:67\n",
            "ingrese la segunda calificación:87\n",
            "ingrese la tercera calificación:78\n",
            "ingrese la segunda calificación:90\n",
            "TU PROMEDIO ES: 80.5 HAS APROBADO\n"
          ]
        }
      ]
    },
    {
      "cell_type": "markdown",
      "source": [
        " 7.Programa en python que atraves de opciones (1.-HOMBRE 2.-MUJER) preguntar al usuario cual es su sexo y desplegar la leyenda \"HOMBRE\"o \"MUJER\""
      ],
      "metadata": {
        "id": "t45xL0O4iFHh"
      }
    },
    {
      "cell_type": "code",
      "source": [
        "print(\"INGRESA EL NUMERO QUE CORRESPONDE A TU SEXO: \\n5. HOMBRE \\n2 MUJER\")\n",
        "SEXO= int(input(\"\"))\n",
        "\n",
        "if SEXO ==5:\n",
        "\n",
        "    print(\"HOMBRE\")\n",
        "\n",
        "elif SEXO==2:\n",
        "\n",
        "    print(\"MUJER\")\n",
        "\n",
        "else:\n",
        "\n",
        "    print(\"ESTA OPCION NO ES VALIDA\")"
      ],
      "metadata": {
        "colab": {
          "base_uri": "https://localhost:8080/",
          "height": 0
        },
        "id": "GohcjYAmiFSB",
        "outputId": "18a775f3-2176-4e3d-8013-fdb5c89ddd02"
      },
      "execution_count": 10,
      "outputs": [
        {
          "output_type": "stream",
          "name": "stdout",
          "text": [
            "INGRESA EL NUMERO QUE CORRESPONDE A TU SEXO: \n",
            "5. HOMBRE \n",
            "2 MUJER\n",
            "5\n",
            "HOMBRE\n"
          ]
        }
      ]
    },
    {
      "cell_type": "markdown",
      "source": [
        " 8.programa de phyton que lea un número entero, y desplegar si el número es \"PAR\" o \"impar\""
      ],
      "metadata": {
        "id": "wJfSOriPiFi5"
      }
    },
    {
      "cell_type": "code",
      "source": [
        "num= int(input(\"INGRESE UN NUMERO:\"))\n",
        "\n",
        "o=num%2\n",
        "\n",
        "if o==0:\n",
        "\n",
        " print(\"NUMERO\",o,\"ES PAR\")\n",
        "\n",
        "elif o!=0:\n",
        "\n",
        " print(\"NUMERO\",o,\"ES IMPAR\")"
      ],
      "metadata": {
        "colab": {
          "base_uri": "https://localhost:8080/",
          "height": 0
        },
        "id": "JCLBAwjoiFrZ",
        "outputId": "a73f0aa9-a9ae-4d09-b722-72e5632885a5"
      },
      "execution_count": 11,
      "outputs": [
        {
          "output_type": "stream",
          "name": "stdout",
          "text": [
            "INGRESE UN NUMERO:5\n",
            "NUMERO 1 ES IMPAR\n"
          ]
        }
      ]
    }
  ]
}