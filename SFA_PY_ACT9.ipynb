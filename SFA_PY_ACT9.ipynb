{
  "nbformat": 4,
  "nbformat_minor": 0,
  "metadata": {
    "colab": {
      "provenance": [],
      "authorship_tag": "ABX9TyMzoZirsItxPM4c9BIS5Vtp",
      "include_colab_link": true
    },
    "kernelspec": {
      "name": "python3",
      "display_name": "Python 3"
    },
    "language_info": {
      "name": "python"
    }
  },
  "cells": [
    {
      "cell_type": "markdown",
      "metadata": {
        "id": "view-in-github",
        "colab_type": "text"
      },
      "source": [
        "<a href=\"https://colab.research.google.com/github/sergiofabian05/SFA_PY_ACTS/blob/main/SFA_PY_ACT9.ipynb\" target=\"_parent\"><img src=\"https://colab.research.google.com/assets/colab-badge.svg\" alt=\"Open In Colab\"/></a>"
      ]
    },
    {
      "cell_type": "markdown",
      "source": [
        "ACTIVIDAD 9\n",
        "\n",
        "***SERGIO FABIAN AGUIAR***\n",
        "\n",
        "Realiza un programa en python que utilice el siguiente menu:\n",
        "\n",
        " MENU\n",
        "\n",
        " 1.- Crear Diccionario\n",
        "\n",
        " 2.- Imprimir Diccionario\n",
        "\n",
        " 0.- Salir\n",
        "\n",
        "\n",
        "\n",
        "CREAR DICCIIONARIO: funcion que retorne un diccionario con los datos de basicos de un alumno, donde se pide {id,nombre (1 O 2) , appaterno,apmaterno, edad,sexo}, El diccionario se debe generar automaticmanete a partir de listas.\n",
        "\n",
        "\n",
        "\n",
        "IMPRIMIR DICCIONARIO:  Funcion que reciba como parametro el diccionario, y le de una salida mostrando la informacion en forma de registro que se genero con el diccionario"
      ],
      "metadata": {
        "id": "wsc8MkayeIcq"
      }
    },
    {
      "cell_type": "code",
      "execution_count": 1,
      "metadata": {
        "id": "VkSrH8XXeAmt"
      },
      "outputs": [],
      "source": [
        "def crear_dict():\n",
        "    alumno = {}\n",
        "    alumno[\"id\"] = input(\"Ingrese el id: \")\n",
        "    alumno[\"nombre\"] = input(\"Ingrese el nombre: \")\n",
        "    alumno[\"appaterno\"] = input(\"Ingrese el apellido paterno: \")\n",
        "    alumno[\"apmaterno\"] = input(\"Ingrese el apellido materno: \")\n",
        "    alumno[\"edad\"] = input(\"Ingresar la edad: \")\n",
        "    alumno[\"sexo\"] = input(\"Ingresar el sexo: \")\n",
        "    return alumno"
      ]
    },
    {
      "cell_type": "code",
      "source": [
        "def imprimir_dict(diccionario):\n",
        "  print(\"diccionario:\")\n",
        "  for key, value in diccionario.items():\n",
        "    print(f\"{key}: {value}\")"
      ],
      "metadata": {
        "id": "T-aN72i8emb7"
      },
      "execution_count": 2,
      "outputs": []
    },
    {
      "cell_type": "code",
      "source": [
        "alumno = {}\n",
        "\n",
        "while True:\n",
        "    print(\"\\nMENU\")\n",
        "    print(\"1.- crear diccionario\")\n",
        "    print(\"2.- imprimir diccionario\")\n",
        "    print(\"0.- salir\")\n",
        "\n",
        "    opcion = input(\"seleccione una opcion: \")\n",
        "\n",
        "    if opcion == \"1\":\n",
        "        alumno = crear_dict()\n",
        "        print(\"diccionario creado.\")\n",
        "    elif opcion == \"2\":\n",
        "        if alumno:\n",
        "            imprimir_dict(alumno)\n",
        "        else:\n",
        "            print(\"eliga la opcion 1 para crear un diccionario\")\n",
        "    elif opcion == \"0\":\n",
        "        print(\"Adios8)\")\n",
        "        break\n",
        "    else:\n",
        "        print(\"opcion invalida\")"
      ],
      "metadata": {
        "colab": {
          "base_uri": "https://localhost:8080/",
          "height": 0
        },
        "id": "yWjs3AWremop",
        "outputId": "aec1f3ee-9b20-4592-99f3-f68079b7461b"
      },
      "execution_count": 4,
      "outputs": [
        {
          "output_type": "stream",
          "name": "stdout",
          "text": [
            "\n",
            "MENU\n",
            "1.- crear diccionario\n",
            "2.- imprimir diccionario\n",
            "0.- salir\n",
            "seleccione una opción: 1\n",
            "Ingresar el id: 374317\n",
            "Ingresar el nombre: sergio\n",
            "Ingresar apellido paterno: fabian\n",
            "Ingresar el apellido materno: aguiar\n",
            "Ingresar la edad: 19\n",
            "Ingresar el sexo: H\n",
            "diccionario creado.\n",
            "\n",
            "MENU\n",
            "1.- crear diccionario\n",
            "2.- imprimir diccionario\n",
            "0.- salir\n",
            "seleccione una opción: 2\n",
            "diccionario:\n",
            "id: 374317\n",
            "nombre: sergio\n",
            "appaterno: fabian\n",
            "apmaterno: aguiar\n",
            "edad: 19\n",
            "sexo: H\n",
            "\n",
            "MENU\n",
            "1.- crear diccionario\n",
            "2.- imprimir diccionario\n",
            "0.- salir\n",
            "seleccione una opción: 0\n",
            "Adios8)\n"
          ]
        }
      ]
    }
  ]
}