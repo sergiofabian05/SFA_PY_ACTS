{
  "nbformat": 4,
  "nbformat_minor": 0,
  "metadata": {
    "colab": {
      "provenance": [],
      "authorship_tag": "ABX9TyMiO3N+xnMdv33sBouZlW8/",
      "include_colab_link": true
    },
    "kernelspec": {
      "name": "python3",
      "display_name": "Python 3"
    },
    "language_info": {
      "name": "python"
    }
  },
  "cells": [
    {
      "cell_type": "markdown",
      "metadata": {
        "id": "view-in-github",
        "colab_type": "text"
      },
      "source": [
        "<a href=\"https://colab.research.google.com/github/sergiofabian05/SFA_PY_ACTS/blob/main/SFA_PY_ACT4.ipynb\" target=\"_parent\"><img src=\"https://colab.research.google.com/assets/colab-badge.svg\" alt=\"Open In Colab\"/></a>"
      ]
    },
    {
      "cell_type": "markdown",
      "source": [
        "SFA_PY_1_ACT4\n",
        "\n",
        "1.- Programa en python   que lea 3 calificaciones calcule el promedio del alumno y desplegar:\n",
        "\n",
        "Si prom < 30 Repetir\n",
        "\n",
        "Si prom >=30 y prom <60 extraordinario\n",
        "\n",
        "Si prom >=60 y prom <70 suficiente\n",
        "\n",
        "Si prom >=70 y prom <80 Regular\n",
        "\n",
        "Si prom >=80 y prom <90 bien\n",
        "\n",
        "Si prom >=90 y prom <98 muy bien\n",
        "\n",
        "Si prom >=98 y prom <=100 excelente\n",
        "\n",
        "Si prom >100 Error en promedio\n",
        "\n",
        "Realizar el algoritmo optimizado"
      ],
      "metadata": {
        "id": "BROn4fjPShFq"
      }
    },
    {
      "cell_type": "code",
      "source": [
        "try:\n",
        "    c1= int(input(\"DAME LA CALIFICACION: \"))\n",
        "    c2= int(input(\"DAME LA CALIFICACION: \"))\n",
        "    c3= int(input(\"DAME LA CALIFICACION: \"))\n",
        "\n",
        "except:\n",
        "    print (\"ERROR DE CAPTURA\")\n",
        "\n",
        "else:\n",
        "    p = (c1 + c2 + c3 )/3\n",
        "\n",
        "if (p<30):\n",
        "   print(f\"TU PROMEDIO ES:{p}REPETIR\")\n",
        "elif (p<60):\n",
        "  print(f\"TUPROMEDIO ES:{p}EXTRAORDINARIO\")\n",
        "elif (p<70):\n",
        "  print(f\"TU PROMEDIO ES:{p}SUFICIENTE\")\n",
        "elif (p<80):\n",
        "  print(f\"TU PROMEDIO ES:{p}REGULAR\")\n",
        "elif(p<90):\n",
        "  print(f\"TU PROMEDIO:{p}BIEN\")\n",
        "elif(p<98):\n",
        "  print(f\"TU PROMEDIO:{p}MUY BIEN\")\n",
        "elif(p<100):\n",
        "  print(f\"TU PROMEDIO:{p}EXCELENTE\")\n",
        "else:\n",
        "  print(\"ERROR\")"
      ],
      "metadata": {
        "colab": {
          "base_uri": "https://localhost:8080/"
        },
        "id": "2wXovUrhtZ6T",
        "outputId": "72bce190-eac8-410c-80a4-41153af67ee2"
      },
      "execution_count": null,
      "outputs": [
        {
          "output_type": "stream",
          "name": "stdout",
          "text": [
            "DAME LA CALIFICACION: \n",
            "ERROR DE CAPTURA\n",
            "TU PROMEDIO ES:73.66666666666667REGULAR\n"
          ]
        }
      ]
    },
    {
      "cell_type": "markdown",
      "source": [
        "SFA_PY_2_ACT4\n",
        "\n",
        "2.- Programa en Python que sirva para calcular el salario semanal de un trabajador donde se obtiene como dato de entrada las horas semanales trabajadas, el salario por hora.\n",
        "\n",
        "El programa deberá calcular el salario normal, salario extra y salario total, considerando lo siguiente:\n",
        "\n",
        "Jornada Normal de 40 horas.\n",
        "El salario normal se considera las horas trabajadas menores o igual a la jornada normal\n",
        "Salario extra se considera las horas trabajadas mayores a la jornada normal y se pagan dobles las primeras 9 y triples a partir de la décima hora extra\n",
        "\n",
        "\n",
        "Nota: Desplegar todos los datos (Salario x hora, Horas Trabajadas, Salario normal, Salario extra y Salario Total)"
      ],
      "metadata": {
        "id": "YXMmFDwdwMXQ"
      }
    },
    {
      "cell_type": "code",
      "source": [
        "try:\n",
        "\n",
        "    ht = float(input(\"Ingrese las horas trabajadas esta semana: \"))\n",
        "    sph = float(input(\"Ingrese el salario por hora: \"))\n",
        "\n",
        "    jn = 40\n",
        "    if ht <= jn:\n",
        "        sal_nor = ht* sph\n",
        "        sal_ext = 0\n",
        "    else:\n",
        "        horas_extra = ht - jn\n",
        "        sal_nor = jn * sph\n",
        "        sal_ext = (min(horas_extra, 9) * sph * 2) + (max(0, horas_extra - 9) * sph * 3)\n",
        "\n",
        "    sal_to = sal_nor+ sal_ext\n",
        "\n",
        "    print(\"Salario por hora:\", sph)\n",
        "    print(\"Horas trabajadas:\", ht)\n",
        "    print(\"Salario normal:\", sal_nor)\n",
        "    print(\"Salario extra:\", sal_ext)\n",
        "    print(\"Salario total:\", sal_to)\n",
        "\n",
        "except :\n",
        "    print(\"Error: solo numeros para las horas trabajadas y el salario por hora.\")\n"
      ],
      "metadata": {
        "colab": {
          "base_uri": "https://localhost:8080/"
        },
        "id": "OuDEH4kRYg7M",
        "outputId": "3b54a810-f450-4484-deb6-a6886ae04326"
      },
      "execution_count": null,
      "outputs": [
        {
          "output_type": "stream",
          "name": "stdout",
          "text": [
            "Ingrese las horas trabajadas esta semana: 56\n",
            "Ingrese el salario por hora: 200\n",
            "Salario por hora: 200.0\n",
            "Horas trabajadas: 56.0\n",
            "Salario normal: 8000.0\n",
            "Salario extra: 7800.0\n",
            "Salario total: 15800.0\n"
          ]
        }
      ]
    },
    {
      "cell_type": "markdown",
      "source": [
        "SFA_PY_3_ACT4\n",
        "\n",
        "3.- Programa en Python que sirva para calcular el Total a pagar por consumo de agua, donde el dato de entrada son los M3 de agua consumidos, Tomar en cuenta que se cobra escalonada de la Siguiente manera:\n",
        "\n",
        "Rango1: 0 al 4 M3 $50 x facturación sin importar cuánto consumió en este rango\n",
        "\n",
        "Rango2: 5 a 15 M3 $8.00 x M3\n",
        "\n",
        "Rango3: 16 a 50 M3 $10.00 x M3\n",
        "\n",
        "Rango4: 51 M3 en adelante $11.00 x M3\n",
        "\n",
        "Nota: Desplegar SubTotal, Iva(16%), y Total a pagar.\n",
        "\n"
      ],
      "metadata": {
        "id": "MufiRQVQMIiR"
      }
    },
    {
      "cell_type": "code",
      "source": [
        "try:\n",
        "    metros3 = float(input(\"Ingrese los metros cúbicos (M3) de agua consumidos: \"))\n",
        "\n",
        "    tarifa_rango1 = 50\n",
        "    tarifa_rango2 = 8\n",
        "    tarifa_rango3 = 10\n",
        "    tarifa_rango4 = 11\n",
        "\n",
        "    if metros3 <= 4:\n",
        "        st = tarifa_rango1\n",
        "    elif metros3 <= 15:\n",
        "        st = tarifa_rango1 + (metros3 - 4) * tarifa_rango2\n",
        "    elif metros3 <= 50:\n",
        "        st = tarifa_rango1 + 12 * tarifa_rango2 + (metros3 - 15) * tarifa_rango3\n",
        "    else:\n",
        "        st = tarifa_rango1 + 12 * tarifa_rango2 + 35 * tarifa_rango3 + (metros3 - 50) * tarifa_rango4\n",
        "\n",
        "    iva = st * 0.16\n",
        "    total_pagar = st + iva\n",
        "\n",
        "    print(\"Subtotal: $\", st)\n",
        "    print(\"IVA (16%): $\", iva)\n",
        "    print(\"Total a pagar: $\", total_pagar)\n",
        "\n",
        "except:\n",
        "    print(\"Error solo numeros para los metros cúbicos de agua consumidos.\")\n"
      ],
      "metadata": {
        "colab": {
          "base_uri": "https://localhost:8080/"
        },
        "id": "n6TVF1LAZfaq",
        "outputId": "1bf5ea51-7542-429a-e189-6ad9b0d4f793"
      },
      "execution_count": null,
      "outputs": [
        {
          "output_type": "stream",
          "name": "stdout",
          "text": [
            "Ingrese los metros cúbicos (M3) de agua consumidos: 45\n",
            "Subtotal: $ 446.0\n",
            "IVA (16%): $ 71.36\n",
            "Total a pagar: $ 517.36\n"
          ]
        }
      ]
    },
    {
      "cell_type": "markdown",
      "source": [
        "SFA_PY_4_ACT4\n",
        "\n",
        "4- En la materia de Metodología de la programación se aplican 5 exámenes, calcular el promedio final de la materia donde la calificación menor de los exámenes se anula y el promedio se calcula en base a 4 exámenes.\n",
        "\n",
        "Desplegar el promedio final. y cual es la mas baja que se elimino."
      ],
      "metadata": {
        "id": "nZtwsYHsOLnT"
      }
    },
    {
      "cell_type": "code",
      "source": [
        "try:\n",
        "\n",
        "    calificaciones = []\n",
        "    for i in range(5):\n",
        "        calificacion = float(input(f\"Ingrese la calificación del examen {i + 1}: \"))\n",
        "        calificaciones.append(calificacion)\n",
        "\n",
        "\n",
        "    cali_minima = min(calificaciones)\n",
        "    calificaciones.remove(cali_minima)\n",
        "\n",
        "    prom_final = sum(calificaciones) / 4\n",
        "\n",
        "    print(\"El promedio final es:\", prom_final)\n",
        "    print(\"La calificación más baja eliminada fue:\", cali_minima)\n",
        "\n",
        "except:\n",
        "    print(\"Error, solo numeros para las calificaciones.\")\n",
        "\n"
      ],
      "metadata": {
        "colab": {
          "base_uri": "https://localhost:8080/"
        },
        "id": "DDlIeuLqOK3y",
        "outputId": "70ad4c83-3a04-45f3-dca0-afdd1849ccc7"
      },
      "execution_count": null,
      "outputs": [
        {
          "output_type": "stream",
          "name": "stdout",
          "text": [
            "Ingrese la calificación del examen 1: 56\n",
            "Ingrese la calificación del examen 2: 65\n",
            "Ingrese la calificación del examen 3: 3\n",
            "Ingrese la calificación del examen 4: 34\n",
            "Ingrese la calificación del examen 5: 45\n",
            "El promedio final es: 50.0\n",
            "La calificación más baja eliminada fue: 3.0\n"
          ]
        }
      ]
    },
    {
      "cell_type": "markdown",
      "source": [
        "SFA_PY_5_ACT4\n",
        "\n",
        "5.- Programa en Python que sirva para el juego del CHINCHAMPU (Piedra, Papel, Tijera) para 1 jugador y la computadora"
      ],
      "metadata": {
        "id": "lpWIG2f-RoHi"
      }
    },
    {
      "cell_type": "code",
      "source": [
        "import random\n",
        "def juego_chinchampu(jug, compu):\n",
        "    if jug == compu:\n",
        "        return \"Empate\"\n",
        "    elif (jug == \"Piedra\" and compu== \"Tijera\") or \\\n",
        "         (jug == \"Papel\" and compu == \"Piedra\") or\\\n",
        "         (jug == \"Tijera\" and compu == \"Papel\"):\n",
        "        return \"¡Ganaste!\"\n",
        "    else:\n",
        "        return \"¡La computadora gana!\"\n",
        "def convertir_numero_a_opcion(numero):\n",
        "    if numero == 1:\n",
        "        return \"Piedra\"\n",
        "    elif numero == 2:\n",
        "        return \"Papel\"\n",
        "    elif numero == 3:\n",
        "        return \"Tijera\"\n",
        "    else:\n",
        "        return None\n",
        "def convertir_opcion_a_numero(opcion):\n",
        "    if opcion == \"Piedra\":\n",
        "        return 1\n",
        "    elif opcion == \"Papel\":\n",
        "        return 2\n",
        "    elif opcion == \"Tijera\":\n",
        "        return 3\n",
        "    else:\n",
        "        return None\n",
        "try:\n",
        "    op = [\"Piedra\", \"Papel\", \"Tijera\"]\n",
        "    jug = input(\"Elige Piedra, Papel o Tijera: \").capitalize()\n",
        "    if jug not in op:\n",
        "        raise ValueError(\"Opción no válida.\")\n",
        "\n",
        "    op_n = random.randint(1, 3)\n",
        "    compu = convertir_numero_a_opcion(op_n)\n",
        "\n",
        "    print(\"El jugador eligió:\", jug)\n",
        "    print(\"La computadora eligió:\", compu)\n",
        "\n",
        "    resultado = juego_chinchampu(jug, compu)\n",
        "    print(resultado)\n",
        "\n",
        "except valueError as e:\n",
        "    print(\"Error:\", e)\n"
      ],
      "metadata": {
        "colab": {
          "base_uri": "https://localhost:8080/"
        },
        "id": "wpFYLtLcRnqK",
        "outputId": "ece617c7-b8cf-46e6-a3ca-8fff4dc78a8e"
      },
      "execution_count": null,
      "outputs": [
        {
          "output_type": "stream",
          "name": "stdout",
          "text": [
            "Elige Piedra, Papel o Tijera: papel\n",
            "El jugador eligió: Papel\n",
            "La computadora eligió: Tijera\n",
            "¡La computadora gana!\n"
          ]
        }
      ]
    },
    {
      "cell_type": "markdown",
      "source": [],
      "metadata": {
        "id": "QEkzOHZ8TjMo"
      }
    },
    {
      "cell_type": "markdown",
      "source": [
        "SFA_PY_6_ACT4\n",
        "\n",
        "6.- Programa en Python que lea 4 números enteros desplegar cuales el menor, cual es mayor"
      ],
      "metadata": {
        "id": "cMWO8DT_TlwL"
      }
    },
    {
      "cell_type": "code",
      "source": [
        "try:\n",
        "    numeros = []\n",
        "    for i in range(4):\n",
        "        n = int(input(f\"Ingrese el número entero {i + 1}: \"))\n",
        "        numeros.append(n)\n",
        "\n",
        "    menor = min(numeros)\n",
        "    mayor = max(numeros)\n",
        "\n",
        "    print(\"El número menor es:\", menor)\n",
        "    print(\"El número mayor es:\", mayor)\n",
        "\n",
        "except:\n",
        "    print(\"Error,solo números enteros.\")\n"
      ],
      "metadata": {
        "colab": {
          "base_uri": "https://localhost:8080/"
        },
        "id": "fil63sHnRnaL",
        "outputId": "fb5c2c5b-fa70-4840-f26d-bcc74292a7cb"
      },
      "execution_count": null,
      "outputs": [
        {
          "output_type": "stream",
          "name": "stdout",
          "text": [
            "Ingrese el número entero 1: 5\n",
            "Ingrese el número entero 2: 6\n",
            "Ingrese el número entero 3: 5\n",
            "Ingrese el número entero 4: 3\n",
            "El número menor es: 3\n",
            "El número mayor es: 6\n"
          ]
        }
      ]
    },
    {
      "cell_type": "markdown",
      "source": [
        "SFA_PY_7_ACT4\n",
        "\n",
        "7.- Programa en Python que sirva para calcular el área de un triangulo, los datos de entrada deben ser forzosamente de tipo real"
      ],
      "metadata": {
        "id": "KBn4kT-6Tysh"
      }
    },
    {
      "cell_type": "code",
      "source": [
        "try:\n",
        "    base = float(input(\"Ingrese la base del triángulo: \"))\n",
        "    altura = float(input(\"Ingrese la altura del triángulo: \"))\n",
        "\n",
        "    area = 0.5 * base * altura\n",
        "\n",
        "    print(\"El área del triángulo es:\", area)\n",
        "\n",
        "except ValueError:\n",
        "    print(\"Error, solo numeros para la base y la altura.\")\n"
      ],
      "metadata": {
        "colab": {
          "base_uri": "https://localhost:8080/"
        },
        "id": "IYuV7l4xTlBa",
        "outputId": "16bb8e8a-da84-4f08-ab6f-98c345f2100a"
      },
      "execution_count": null,
      "outputs": [
        {
          "output_type": "stream",
          "name": "stdout",
          "text": [
            "Ingrese la base del triángulo: 6\n",
            "Ingrese la altura del triángulo: 8\n",
            "El área del triángulo es: 24.0\n"
          ]
        }
      ]
    },
    {
      "cell_type": "markdown",
      "source": [
        "SFA_PY_8_ACT4\n",
        "\n",
        "8.- Programa en Python que sirva para calcular el área de un circulo\n"
      ],
      "metadata": {
        "id": "JD5lBGqfTzmc"
      }
    },
    {
      "cell_type": "code",
      "source": [
        "try:\n",
        "\n",
        "    radio = float(input(\"Ingrese el radio del círculo: \"))\n",
        "\n",
        "    area = 3.14159 * radio ** 2\n",
        "\n",
        "    print(f\"El área del círculo es:{area}\")\n",
        "\n",
        "except ValueError:\n",
        "    print(\"Error: Por favor, solo numeros para el radio del círculo.\")\n"
      ],
      "metadata": {
        "colab": {
          "base_uri": "https://localhost:8080/"
        },
        "id": "fJFGWbb3TxJD",
        "outputId": "b3488bde-e3ce-40ea-dcb9-12338130e681"
      },
      "execution_count": null,
      "outputs": [
        {
          "output_type": "stream",
          "name": "stdout",
          "text": [
            "Ingrese el radio del círculo: 6\n",
            "El área del círculo es: 113.09724\n"
          ]
        }
      ]
    }
  ]
}