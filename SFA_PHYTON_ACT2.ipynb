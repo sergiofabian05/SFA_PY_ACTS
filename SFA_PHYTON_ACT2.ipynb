{
  "nbformat": 4,
  "nbformat_minor": 0,
  "metadata": {
    "colab": {
      "provenance": [],
      "mount_file_id": "1mi-sdLBYPu-wIv6ekTBicLQpsgN-cUKi",
      "authorship_tag": "ABX9TyOdfwrvhgdBEKqYEtEzU3uZ",
      "include_colab_link": true
    },
    "kernelspec": {
      "name": "python3",
      "display_name": "Python 3"
    },
    "language_info": {
      "name": "python"
    }
  },
  "cells": [
    {
      "cell_type": "markdown",
      "metadata": {
        "id": "view-in-github",
        "colab_type": "text"
      },
      "source": [
        "<a href=\"https://colab.research.google.com/github/sergiofabian05/SFA_PY_ACTS/blob/main/SFA_PHYTON_ACT2.ipynb\" target=\"_parent\"><img src=\"https://colab.research.google.com/assets/colab-badge.svg\" alt=\"Open In Colab\"/></a>"
      ]
    },
    {
      "cell_type": "markdown",
      "source": [
        "SFA_PY_ACT2_A02\n",
        "\n",
        "\n",
        "1.programa de phyton que lea dos numeros enteros, usar una condicion y analizar cual de los dos numeros es el mayor"
      ],
      "metadata": {
        "id": "I1CcjfqFp02P"
      }
    },
    {
      "cell_type": "code",
      "execution_count": null,
      "metadata": {
        "id": "eYo6_CcFnEVY",
        "colab": {
          "base_uri": "https://localhost:8080/"
        },
        "outputId": "4963226e-5667-4dc2-ce3b-512f81405d94"
      },
      "outputs": [
        {
          "output_type": "stream",
          "name": "stdout",
          "text": [
            "ingresar primer numero: 3\n",
            "ingresar segundo numero: 5\n",
            "el numero mayor es: 5\n"
          ]
        }
      ],
      "source": [
        "num1= int(input(\"ingresar primer numero: \"))\n",
        "num2= int(input(\"ingresar segundo numero: \"))\n",
        "if num1 == num2:\n",
        "  print(\"los numeros son iguales\")\n",
        "else:\n",
        "  if num1 > num2:\n",
        "   print(\"el numero mayor es:\",num1)\n",
        "  else:\n",
        "           print(\"el numero mayor es:\",num2)"
      ]
    },
    {
      "cell_type": "markdown",
      "source": [
        "SFA_PY_ACT2_A02\n",
        "\n",
        "2.Programa de phyton algoritmo que lea 4 calificaciones de un alumno, calcular y desplegar su promedio acompañado de la leyenda \"APROBADO\" o \"REPROBADO\""
      ],
      "metadata": {
        "id": "GIIDXcgfquBf"
      }
    },
    {
      "cell_type": "code",
      "source": [
        "cali1=int(input(\"Ingresar primera calificacion:\"))\n",
        "cali2=int(input(\"Ingresar segunda calificacion:\"))\n",
        "cali3=int(input(\"Ingresar tercera calificacion:\"))\n",
        "cali4=int(input(\"Ingresar cuarta calificacion:\"))\n",
        "\n",
        "pro= (cali1+cali2+cali3+cali4)/4\n",
        "if pro >100:\n",
        "  print(\"calificacion no valida\")\n",
        "else:\n",
        "  if pro>=60:\n",
        "    print(\"HAS APROBADO TU CALIFICACION ES:\",pro)\n",
        "  else:\n",
        "    print(\"HAS REPROBADO TU CALIFICACION ES:\",pro)\n"
      ],
      "metadata": {
        "colab": {
          "base_uri": "https://localhost:8080/"
        },
        "id": "eTOn8ZTLWCPN",
        "outputId": "3b3b7ffc-7a72-4f2d-9d67-3d47488183bc"
      },
      "execution_count": null,
      "outputs": [
        {
          "output_type": "stream",
          "name": "stdout",
          "text": [
            "Ingresar primera calificacion:30\n",
            "Ingresar segunda calificacion:60\n",
            "Ingresar tercera calificacion:70\n",
            "Ingresar cuarta calificacion:50\n",
            "HAS REPROBADO TU CALIFICACION ES: 52.5\n"
          ]
        }
      ]
    },
    {
      "cell_type": "markdown",
      "source": [
        "SFA_PY_ACT2_A02\n",
        "\n",
        "3.Programa de phyton algoritmo que a traves de opciones (1.-HOMBRE 2.-MUJER) preguntar al usuario cual es su sexo y desplegar la leyenda \"HOMBRE\" o \"MUJER\""
      ],
      "metadata": {
        "id": "8Nub9p9zrY3G"
      }
    },
    {
      "cell_type": "code",
      "source": [
        "print(\"ingrese el numero que corresponde a tu sexo: \\n1. HOMBRE \\n2. MUJER\")\n",
        "sexo= int(input(\"\"))\n",
        "if sexo== 1:\n",
        "  print(\"HOMBRE\")\n",
        "else:\n",
        "  if sexo== 2:\n",
        "    print (\"MUJER\")\n",
        "  else:\n",
        "    print (\"ESTA OPCION NO ES VALIDA\")\n"
      ],
      "metadata": {
        "colab": {
          "base_uri": "https://localhost:8080/"
        },
        "id": "GJgac69VZLsh",
        "outputId": "eb48c4e4-2d5f-4b6a-efc1-aee2981fe937"
      },
      "execution_count": null,
      "outputs": [
        {
          "output_type": "stream",
          "name": "stdout",
          "text": [
            "ingrese el numero que corresponde a tu sexo: \n",
            "1. HOMBRE \n",
            "2. MUJER\n",
            "1\n",
            "HOMBRE\n"
          ]
        }
      ]
    },
    {
      "cell_type": "markdown",
      "source": [
        "SFA_PY_ACT2_A02\n",
        "\n",
        "4.Programa en phyton que lea un numero entero, y desplegar si el numero \"PAR\" o \"IMPAR\""
      ],
      "metadata": {
        "id": "klwxhHA_sDM3"
      }
    },
    {
      "cell_type": "code",
      "source": [
        "num=int(input(\"ingrese un numero\"))\n",
        "\n",
        "r= num%2\n",
        "\n",
        "if r==0:\n",
        "   print(\"EL NUMERO\",num,\"ES NUMERO PAR\")\n",
        "else:\n",
        "    print(\"EL NUMERO\",num,\"ES NUMERO IMPAR\")\n"
      ],
      "metadata": {
        "colab": {
          "base_uri": "https://localhost:8080/"
        },
        "id": "vz8l9fGaa0jQ",
        "outputId": "821160be-64ee-4b84-ea0d-f461215b0f52"
      },
      "execution_count": null,
      "outputs": [
        {
          "output_type": "stream",
          "name": "stdout",
          "text": [
            "ingrese un numero3\n",
            "EL NUMERO 3 ES NUMERO IMPAR\n"
          ]
        }
      ]
    },
    {
      "cell_type": "markdown",
      "source": [
        "SFA_PY_ACT2_A02\n",
        "\n",
        "5.Programa de pythom que lea 2 numeros enteros, usar una condicion y analizar los 2 numeros y desplegar cual de los numeros es el mayor"
      ],
      "metadata": {
        "id": "hhT6_-NKshKO"
      }
    },
    {
      "cell_type": "code",
      "source": [
        "num1=int(input(\"Ingrese el primer numero: \"))\n",
        "num2=int(input(\"Ingrese el segundo numero:\"))\n",
        "if num1==num2:\n",
        "  print(\"son iguales los numeros\")\n",
        "\n",
        "elif num1>num2:\n",
        "  print(\"Numero\",num1,\"ES EL MAYOR\")\n",
        "else:\n",
        "    print(\"Numero\",num2,\"ES EL MAYOR\")"
      ],
      "metadata": {
        "colab": {
          "base_uri": "https://localhost:8080/"
        },
        "id": "-NvNrnKGc9o4",
        "outputId": "961a5576-f8db-46bc-e96c-6d9d59a16c70"
      },
      "execution_count": null,
      "outputs": [
        {
          "output_type": "stream",
          "name": "stdout",
          "text": [
            "Ingrese el primer numero:5\n",
            "Ingrese el segundo numero:7\n",
            "Numero 7 ES EL MAYOR\n"
          ]
        }
      ]
    },
    {
      "cell_type": "markdown",
      "source": [
        "SFA_PY_ACT2_A02\n",
        "\n",
        "6.Programa de pythom que lea 4 calificaciones de un alumno, calcular y desplegar el promedio acompañado de la leyenda APROBADO o REPROBADO"
      ],
      "metadata": {
        "id": "MdHiOdd7s9Km"
      }
    },
    {
      "cell_type": "code",
      "source": [
        "\n",
        "cali1=int(input(\"ingrese la primera calificacion:\"))\n",
        "cali2=int(input(\"ingrese la segunda calificacion:\"))\n",
        "cali3=int(input(\"ingrese la tercera calificacion:\"))\n",
        "cali4=int(input(\"ingrese la segunda calificacion:\"))\n",
        "\n",
        "pro= (cali1+cali2+cali3+cali4)/4\n",
        "\n",
        "if pro>100:\n",
        "  print(\"CALIFICACION NO VALIDA\")\n",
        "elif pro>=60:\n",
        "  print(\"TU PROMEDIO ES:\",pro,\"HAS APROBADO\")\n",
        "else:\n",
        "    print(\"TU PROMEDIO ES:\",pro,\"HAS REPROBADO\")\n"
      ],
      "metadata": {
        "colab": {
          "base_uri": "https://localhost:8080/"
        },
        "id": "LuDLbhY6fVh_",
        "outputId": "d649cd14-e310-43f7-9b6b-7c3e46967e88"
      },
      "execution_count": null,
      "outputs": [
        {
          "output_type": "stream",
          "name": "stdout",
          "text": [
            "ingrese la primera calificacion:70\n",
            "ingrese la segunda calificacion:80\n",
            "ingrese la tercera calificacion:0\n",
            "ingrese la segunda calificacion:50\n",
            "TU PROMEDIO ES: 50.0 HAS REPROBADO\n"
          ]
        }
      ]
    },
    {
      "cell_type": "markdown",
      "source": [
        "SFA_PY_ACT2_A02\n",
        "\n",
        "7.Programa en python que atraves de opciones (1.-HOMBRE 2.-MUJER) preguntar al usuario cual es su sexo y desplegar la leyenda \"HOMBRE\" o \"MUJER\""
      ],
      "metadata": {
        "id": "5gJN5-hKtX8t"
      }
    },
    {
      "cell_type": "code",
      "source": [
        "print(\"INGRESA EL NUMERO QUE CORRESPONDE A TU SEXO: \\n5. HOMBRE \\n2 MUJER\")\n",
        "SEXO= int(input(\"\"))\n",
        "if SEXO ==5:\n",
        "  print(\"HOMBRE\")\n",
        "elif SEXO==2:\n",
        "  print(\"MUJER\")\n",
        "else:\n",
        "  print(\"ESTA OPCION NO ES VALIDA\")\n"
      ],
      "metadata": {
        "colab": {
          "base_uri": "https://localhost:8080/"
        },
        "id": "wGd1q-45itgz",
        "outputId": "9aa5ae6f-cbda-4302-8827-370813a92540"
      },
      "execution_count": null,
      "outputs": [
        {
          "output_type": "stream",
          "name": "stdout",
          "text": [
            "INGRESA EL NUMERO QUE CORRESPONDE A TU SEXO: \n",
            "5. HOMBRE \n",
            "2 MUJER\n",
            "2\n",
            "MUJER\n"
          ]
        }
      ]
    },
    {
      "cell_type": "markdown",
      "source": [
        "SFA_PY_ACT2_A02\n",
        "\n",
        "8.programa de phyton que lea un numero entero, y desplegar si el numero es \"PAR\" o \"impar\""
      ],
      "metadata": {
        "id": "KXXvGF4rt6H2"
      }
    },
    {
      "cell_type": "code",
      "source": [
        "num= int(input(\"INGRESE UN NUMERO:\"))\n",
        "o=num%2\n",
        "if o==0:\n",
        "  print(\"NUMERO\",o,\"ES PAR\")\n",
        "elif o!=0:\n",
        "  print(\"NUMERO\",o,\"ES IMPAR\")\n"
      ],
      "metadata": {
        "colab": {
          "base_uri": "https://localhost:8080/"
        },
        "id": "z0QAvQf4lcIC",
        "outputId": "5a50c358-74f1-4c1b-efc3-952931a6f7c2"
      },
      "execution_count": null,
      "outputs": [
        {
          "output_type": "stream",
          "name": "stdout",
          "text": [
            "INGRESE UN NUMERO:8\n",
            "NUMERO 0 ES PAR\n"
          ]
        }
      ]
    },
    {
      "cell_type": "markdown",
      "source": [
        "EJEMPLO 1\n"
      ],
      "metadata": {
        "id": "QL_ksoi9gVaS"
      }
    },
    {
      "cell_type": "code",
      "source": [
        "num1= int(input(\"dame un numero:\"))\n",
        "num2= int(input(\"dame un numero:\"))\n",
        "num3= int(input(\"dame un numero:\"))"
      ],
      "metadata": {
        "colab": {
          "base_uri": "https://localhost:8080/"
        },
        "id": "3k815w-deDAc",
        "outputId": "20d4c337-1be7-4677-fe3c-77917ce7c56b"
      },
      "execution_count": null,
      "outputs": [
        {
          "name": "stdout",
          "output_type": "stream",
          "text": [
            "dame un numero:48\n",
            "dame un numero:90\n",
            "dame un numero:56\n"
          ]
        }
      ]
    },
    {
      "cell_type": "code",
      "source": [
        "if (num1 > num2):\n",
        "   print (\"MAYOR NUM1\")\n",
        "\n",
        "if(num2 > num1):\n",
        "   print (\"MAYOR NUM2\")"
      ],
      "metadata": {
        "colab": {
          "base_uri": "https://localhost:8080/"
        },
        "id": "hfvHbUUue8uM",
        "outputId": "d616bc95-c678-4c0e-e2bf-6fbb4a58c9ee"
      },
      "execution_count": null,
      "outputs": [
        {
          "output_type": "stream",
          "name": "stdout",
          "text": [
            "MAYOR NUM2\n"
          ]
        }
      ]
    },
    {
      "cell_type": "code",
      "source": [],
      "metadata": {
        "id": "36o2OWyZgO8M"
      },
      "execution_count": null,
      "outputs": []
    }
  ]
}