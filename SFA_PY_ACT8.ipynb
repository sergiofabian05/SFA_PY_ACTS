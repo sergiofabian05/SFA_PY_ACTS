{
  "nbformat": 4,
  "nbformat_minor": 0,
  "metadata": {
    "colab": {
      "provenance": [],
      "authorship_tag": "ABX9TyOp0sqt+NFvJ2TvTsUIRTMq",
      "include_colab_link": true
    },
    "kernelspec": {
      "name": "python3",
      "display_name": "Python 3"
    },
    "language_info": {
      "name": "python"
    }
  },
  "cells": [
    {
      "cell_type": "markdown",
      "metadata": {
        "id": "view-in-github",
        "colab_type": "text"
      },
      "source": [
        "<a href=\"https://colab.research.google.com/github/sergiofabian05/SFA_PY_ACTS/blob/main/SFA_PY_ACT8.ipynb\" target=\"_parent\"><img src=\"https://colab.research.google.com/assets/colab-badge.svg\" alt=\"Open In Colab\"/></a>"
      ]
    },
    {
      "cell_type": "markdown",
      "source": [
        "ACTIVIDAD 8\n",
        "\n",
        "NOTA: REALIZA 3 VERSIONES DIFERENTES DEL LLENADO DE LA LISTA ALEATORIA\n",
        "\n",
        "VERSIÓN A) Usar ciclos para validar los repetidos, y sólo random para generar los números dentro del rango\n",
        "\n",
        "\n",
        "VERSIÓN B) Usa funciones de la librería Random para llenar la lista con los número sin repetir\n",
        "\n",
        "\n",
        "VERSIÓN C) Usa funciones de la librería Random para llenar la lista con los número sin repetir"
      ],
      "metadata": {
        "id": "T4W-p3ZJZPUd"
      }
    },
    {
      "cell_type": "markdown",
      "source": [
        "\n",
        "1.- Programa en python que genere un número entre el 1 y 10,preguntarle al usuario que número cree que generó la computadora, el usuario tendrá 3 oportunidades de adivinar.\n",
        "\n",
        "Decir si adivino o si falló en sus 3 intentos."
      ],
      "metadata": {
        "id": "l1KCwTmKZ0AT"
      }
    },
    {
      "cell_type": "code",
      "source": [
        "import random\n",
        "from IPython.display import clear_output\n",
        "import time"
      ],
      "metadata": {
        "id": "uMzNPOXWZN5N"
      },
      "execution_count": 1,
      "outputs": []
    },
    {
      "cell_type": "code",
      "source": [
        "def vali_num(msj1,msj2):\n",
        "    salida = 1\n",
        "    while(salida == 1):\n",
        "            try:\n",
        "                print(msj1)\n",
        "                n = input(f\"{msj2}\")\n",
        "                n_entero = int(n)\n",
        "                if int(n):\n",
        "                    return n_entero\n",
        "            except ValueError:\n",
        "                print(\"favor de ingresar un numero\")\n",
        "                print(\"intenta de nuevo\")\n",
        "            else:\n",
        "                salida = 0"
      ],
      "metadata": {
        "id": "-0EcdXe4ZN8N"
      },
      "execution_count": 2,
      "outputs": []
    },
    {
      "cell_type": "code",
      "source": [
        "def primer_juego():\n",
        "  num = random.randint(1, 10)\n",
        "  correcto = 1\n",
        "  a = 2\n",
        "  while(a>=0):\n",
        "    msj1 = \"adivina el numero\"\n",
        "    msj2 = \"ingresa un numero\"\n",
        "    usuario = vali_num(msj1, msj2)\n",
        "    if(usuario == num):\n",
        "      print(f\"es correcto! el numero es {correcto}\")\n",
        "      return 1\n",
        "      break\n",
        "    if a!= 0:\n",
        "      print(f\"te quedan {a} intentos mas\")\n",
        "    else:\n",
        "      print(f\"ya no tienes mas intentos\")\n",
        "      clear_output(wait=True)\n",
        "      return 0\n",
        "\n",
        "    correcto += 1\n",
        "    a -= 2"
      ],
      "metadata": {
        "id": "xiH6eNxRZOAL"
      },
      "execution_count": 3,
      "outputs": []
    },
    {
      "cell_type": "code",
      "source": [
        "decision = 1\n",
        "ganado = 0\n",
        "perdido = 0\n",
        "while(decision == 1):\n",
        "    juego = primer_juego()\n",
        "    if juego == 1:\n",
        "        ganado += 1\n",
        "    if juego == 0:\n",
        "        perdido += 1\n",
        "    clear_output(wait=True)\n",
        "    time.sleep(5)\n",
        "    print(\"INGRESA:\")\n",
        "    print(\"1 - SI DESEAS CONTINUAR \")\n",
        "    print(\"CUALQUIER NUMERO - SI DESEAS TERMINAR \")\n",
        "    des = \"Deseas seguir jugando?\"\n",
        "    des2 = \"Ingresa tu decision : \"\n",
        "    decision = vali_num(des,des2)\n",
        "    clear_output(wait=True)\n",
        "    time.sleep(2)\n",
        "\n",
        "print(f\"Ganaste {ganado}\")\n",
        "print(f\"Perdiste {perdido}\")"
      ],
      "metadata": {
        "colab": {
          "base_uri": "https://localhost:8080/"
        },
        "id": "ZjroYy3CZOE7",
        "outputId": "0a7a695d-2ded-4ab7-c1da-ccf523c9476e"
      },
      "execution_count": 4,
      "outputs": [
        {
          "output_type": "stream",
          "name": "stdout",
          "text": [
            "Ganaste 0\n",
            "Perdiste 3\n"
          ]
        }
      ]
    },
    {
      "cell_type": "markdown",
      "source": [
        "VERSION (A) Usar ciclos para validar los repetidos, y sólo random para generar los números dentro del rango"
      ],
      "metadata": {
        "id": "h_QKXvddaY7d"
      }
    },
    {
      "cell_type": "code",
      "source": [
        "def vA():\n",
        "    lista = []\n",
        "    while(len(lista) < 10):\n",
        "        num = random.randint(1,10)\n",
        "        if num not in lista:\n",
        "            lista.append(num)\n",
        "    for i in range(len(lista)):\n",
        "        print(\"[x]\",end='')\n",
        "    alea = random.randint(1,10)\n",
        "    print()\n",
        "    print(lista[alea])\n",
        "\n",
        "    buena = 1\n",
        "    fallo = 2\n",
        "    while(fallo>=0):\n",
        "        msj1 = \"En que indice crees que este el numero? \"\n",
        "        msj2 = \"Ingresa tu respuesta: \"\n",
        "        usuario = vali_num(msj1, msj2)\n",
        "        if(usuario == num):\n",
        "            print(f\"Has acertado! al intento numero {buena}\")\n",
        "            return 1\n",
        "            break\n",
        "        else:\n",
        "            if fallo!= 0:\n",
        "                print(f\"solo te quedan {fallo} intentos\")\n",
        "            else:\n",
        "                print(f\"ya no tienes mas intentos\")\n",
        "                clear_output(wait=True)\n",
        "                return 0\n",
        "        fallo -= 1\n",
        "        buena += 1"
      ],
      "metadata": {
        "id": "A67k85MrZx7r"
      },
      "execution_count": 11,
      "outputs": []
    },
    {
      "cell_type": "code",
      "source": [
        "res = 1\n",
        "gano = 0\n",
        "perdio = 0\n",
        "while(res == 1):\n",
        "    jue = vA()\n",
        "    if jue == 1:\n",
        "        gano += 1\n",
        "    if jue == 0:\n",
        "        perdio += 1\n",
        "    clear_output(wait=True)\n",
        "    time.sleep(2)\n",
        "    print(\"INGRESA:\")\n",
        "    print(\"1 - SI DESEAS CONTINUAR \")\n",
        "    print(\"CUALQUIER NUMERO - SI DESEAS TERMINAR \")\n",
        "    d = \"Deseas seguir jugando?\"\n",
        "    d2 = \"Ingresa tu decision : \"\n",
        "    res = vali_num(d,d2)\n",
        "    clear_output(wait=True)\n",
        "    time.sleep(2)\n",
        "\n",
        "print(f\"Ganaste {gano}\")\n",
        "print(f\"Perdiste {perdio}\")"
      ],
      "metadata": {
        "colab": {
          "base_uri": "https://localhost:8080/"
        },
        "id": "45p5BCUVZyD7",
        "outputId": "ef3881f8-0b70-43c2-fb39-e9f63d80f148"
      },
      "execution_count": 12,
      "outputs": [
        {
          "output_type": "stream",
          "name": "stdout",
          "text": [
            "Ganaste 0\n",
            "Perdiste 1\n"
          ]
        }
      ]
    },
    {
      "cell_type": "markdown",
      "source": [
        "VERSIÓN (B) Usa funciones de la librería Random para llenar la lista con los número sin repetir"
      ],
      "metadata": {
        "id": "rDLg59kba-YU"
      }
    },
    {
      "cell_type": "code",
      "source": [
        "def vB():\n",
        "    lista = []\n",
        "    lista = range(1,11)\n",
        "    lista = random.sample(lista,10)\n",
        "    num = random.randint(1,10)\n",
        "\n",
        "    for i in range(len(lista)):\n",
        "        print(\"[x]\",end='')\n",
        "    alea = random.randint(1,10)\n",
        "    print()\n",
        "    print(lista[alea])\n",
        "\n",
        "    buena = 1\n",
        "    fallo = 2\n",
        "    while(fallo>=0):\n",
        "        msj1 = \"En que indice crees que esta el numero? \"\n",
        "        msj2 = \"Ingresa la respuesta: \"\n",
        "        usuario = vali_num(msj1,msj2)\n",
        "        if(usuario == num):\n",
        "            print(f\"Has acertado! al intento numero {buena}\")\n",
        "            return 1\n",
        "            break\n",
        "        else:\n",
        "            if fallo!= 0:\n",
        "                print(f\"Te quedan {fallo} intento mas\")\n",
        "            else:\n",
        "                print(f\"Sin intentos disponibles, suerte a la proxima\")\n",
        "                clear_output(wait=True)\n",
        "                return 0\n",
        "        fallo -= 1\n",
        "        buena += 1"
      ],
      "metadata": {
        "id": "XeTgz0RFZyJP"
      },
      "execution_count": 9,
      "outputs": []
    },
    {
      "cell_type": "code",
      "source": [
        "resp = 1\n",
        "win = 0\n",
        "fail = 0\n",
        "while(resp == 1):\n",
        "    jue = vB()\n",
        "    if jue == 1:\n",
        "        win += 1\n",
        "    if jue == 0:\n",
        "        fail += 1\n",
        "    clear_output(wait=True)\n",
        "    time.sleep(2)\n",
        "    print(\"INGRESA:\")\n",
        "    print(\"1 - SI DESEAS CONTINUAR \")\n",
        "    print(\"CUALQUIER NUMERO - SI DESEAS TERMINAR \")\n",
        "    mensaje1 = \"Deseas seguir jugando?\"\n",
        "    mensaje2 = \"Ingresa tu decision : \"\n",
        "    resp = vali_num(mensaje1,mensaje2)\n",
        "    clear_output(wait=True)\n",
        "    time.sleep(2)\n",
        "\n",
        "print(f\"Ganaste {win}\")\n",
        "print(f\"Perdiste {fail}\")"
      ],
      "metadata": {
        "colab": {
          "base_uri": "https://localhost:8080/"
        },
        "id": "fZI7yoqda-rj",
        "outputId": "f3bb35c3-6121-4c86-d737-7f4de7097c38"
      },
      "execution_count": 10,
      "outputs": [
        {
          "output_type": "stream",
          "name": "stdout",
          "text": [
            "Ganaste 0\n",
            "Perdiste 1\n"
          ]
        }
      ]
    },
    {
      "cell_type": "markdown",
      "source": [
        "VERSIÓN (C) Usa funciones de la librería Random para llenar la lista con los número sin repetir"
      ],
      "metadata": {
        "id": "hOfeKfyRbVwt"
      }
    },
    {
      "cell_type": "code",
      "source": [
        "def juego3C():\n",
        "    lista = [1,2,3,4,5,6,7,8,9,1]\n",
        "    random.shuffle(lista)\n",
        "    num = random.randint(1,10)\n",
        "\n",
        "    for i in range(len(lista)):\n",
        "        print(\"[x]\",end='')\n",
        "    alea = random.randint(1,10)\n",
        "    print()\n",
        "    print(lista[alea])\n",
        "\n",
        "    buena = 1\n",
        "    fallo = 2\n",
        "    while(fallo>=0):\n",
        "        msj1 = \"En que indice crees que este el numero? \"\n",
        "        msj2 = \"Ingrese la respuesta: \"\n",
        "        usuario = vali_num(msj1,msj2)\n",
        "        if(usuario == num):\n",
        "            print(f\"Has acertado! al intento numero {buena}\")\n",
        "            return 1\n",
        "            break\n",
        "        else:\n",
        "            if fallo!= 0:\n",
        "                print(f\"Te quedan {fallo} intento mas\")\n",
        "            else:\n",
        "                print(f\"Sin intentos disponibles, suerte hasta a la proxima\")\n",
        "                clear_output(wait=True)\n",
        "                return 0\n",
        "        fallo -= 1\n",
        "        buena += 1"
      ],
      "metadata": {
        "id": "80A1Iu06a-0E"
      },
      "execution_count": 7,
      "outputs": []
    },
    {
      "cell_type": "code",
      "source": [
        "resp = 1\n",
        "won = 0\n",
        "looser = 0\n",
        "while(resp == 1):\n",
        "    jue = juego3C()\n",
        "    if jue == 1:\n",
        "        won += 1\n",
        "    if jue == 0:\n",
        "        looser += 1\n",
        "    clear_output(wait=True)\n",
        "    time.sleep(2)\n",
        "    print(\"INGRESA:\")\n",
        "    print(\"1 - SI DESEAS CONTINUAR \")\n",
        "    print(\"CUALQUIER NUMERO - SI DESEAS TERMINAR \")\n",
        "    mensaje1 = \"Deseas seguir jugando?\"\n",
        "    mensaje2 = \"Ingresa tu decision : \"\n",
        "    resp = vali_num(mensaje1,mensaje2)\n",
        "    clear_output(wait=True)\n",
        "    time.sleep(2)\n",
        "\n",
        "print(f\"Ganaste {won}\")\n",
        "print(f\"Perdiste {looser}\")"
      ],
      "metadata": {
        "colab": {
          "base_uri": "https://localhost:8080/"
        },
        "id": "Xdalbo7UZyRF",
        "outputId": "be556176-afd7-410a-b69f-71f9a6cfc172"
      },
      "execution_count": 8,
      "outputs": [
        {
          "output_type": "stream",
          "name": "stdout",
          "text": [
            "Ganaste 1\n",
            "Perdiste 0\n"
          ]
        }
      ]
    }
  ]
}