{
  "cells": [
    {
      "cell_type": "markdown",
      "metadata": {
        "id": "view-in-github",
        "colab_type": "text"
      },
      "source": [
        "<a href=\"https://colab.research.google.com/github/sergiofabian05/SFA_PY_ACTS/blob/main/SFA_PY_ACT6.ipynb\" target=\"_parent\"><img src=\"https://colab.research.google.com/assets/colab-badge.svg\" alt=\"Open In Colab\"/></a>"
      ]
    },
    {
      "cell_type": "markdown",
      "metadata": {
        "id": "n_hkiDmDLNmB"
      },
      "source": [
        "# ACTIVIDAD 6\n",
        "(ciclos y funciones)\n",
        "\n",
        "\n",
        "# FUNCIONES PARA SER LLAMADAS EN EL MENU"
      ]
    },
    {
      "cell_type": "markdown",
      "metadata": {
        "id": "K9b2iTk3K-zK"
      },
      "source": [
        "SFA_PY_1_ACT6\n",
        "\n",
        "1.- FUNCIÓN QUE LEA n CANTIDAD DE NÚMEROS HASTA QUE EL USUARIO LO DESEE, DESPLEGAR LA SUMA DE LOS NÚMEROS, MEDIA Y VALOR DE LOS NÚMEROS MAYORES Y MENORES.\n",
        "\n"
      ]
    },
    {
      "cell_type": "code",
      "execution_count": null,
      "metadata": {
        "id": "qRXHhor5K8ES"
      },
      "outputs": [],
      "source": [
        "import random\n",
        "\n",
        "def valida_num(mensaje, minimo, maximo):\n",
        "    while True:\n",
        "        try:\n",
        "            num = float(input(mensaje))\n",
        "            if minimo <= num <= maximo:\n",
        "                return num\n",
        "            else:\n",
        "                print(\"Error, ingrese un numero entre {} y {}.\".format(minimo, maximo))\n",
        "        except ValueError:\n",
        "            print(\"Error, ingrese un numero valido.\")\n",
        "\n",
        "def opcion_1():\n",
        "    numeros = []\n",
        "    continuar = 's'\n",
        "\n",
        "    while continuar.lower() == 's':\n",
        "        try:\n",
        "            num = valida_num(\"Ingrese un numero (o cualquier letra para terminar): \", float('-inf'), float('inf'))\n",
        "            numeros.append(num)\n",
        "        except ValueError:\n",
        "            print(\"Error, ingrese un numero valido.\")\n",
        "\n",
        "        continuar = input(\"¿Desea ingresar otro numero? (s/n): \")\n",
        "\n",
        "    if numeros:\n",
        "        suma = sum(numeros)\n",
        "        cantidad = len(numeros)\n",
        "        media = suma / cantidad\n",
        "        minimo = min(numeros)\n",
        "        maximo = max(numeros)\n",
        "\n",
        "        print(\"Suma de los numeros: {}\".format(suma))\n",
        "        print(\"Media de los numeros: {}\".format(media))\n",
        "        print(\"Valor minimo: {}\".format(minimo))\n",
        "        print(\"Valor maximo: {}\".format(maximo))\n",
        "    else:\n",
        "        print(\"No se ingresaron numeros.\")"
      ]
    },
    {
      "cell_type": "markdown",
      "metadata": {
        "id": "eHoi1lKJM9p5"
      },
      "source": [
        "SFA_PY_2_ACT6\n",
        "\n",
        "2.- FUNCIÓN QUE GENERE 15 NÚMEROS IMPARES ENTRE 10 Y 60 o MÁXIMO DE 25 NÚMEROS. DESPLEGAR LA MEDIA DE LOS PARES Y MEDIA DE IMPARES.\n",
        "\n"
      ]
    },
    {
      "cell_type": "code",
      "execution_count": null,
      "metadata": {
        "id": "fyrPItfCLhz8"
      },
      "outputs": [],
      "source": [
        "def opcion_2():\n",
        "    impares = random.sample(range(11, 61, 2), 15)\n",
        "    media_impares = sum(impares) / len(impares)\n",
        "    pares = [i for i in range(10, 61, 2)]\n",
        "    media_pares = sum(pares) / len(pares)\n",
        "\n",
        "    print(\"Numeros impares generados:\")\n",
        "    print(impares)\n",
        "    print(\"Media de los numeros impares: {}\".format(media_impares))\n",
        "    print(\"Media de los numeros pares: {}\".format(media_pares))"
      ]
    },
    {
      "cell_type": "markdown",
      "metadata": {
        "id": "Adhwdp_1Offx"
      },
      "source": [
        "SFA_PY_3_ACT6\n",
        "\n",
        "\n",
        "3.- FUNCIÓN QUE SIRVA PARA LEER UN RANGO DADO POR EL USUARIO. REPETIR ESTA ACCIÓN HASTA QUE EL USUARIO LO DESEE, DESPLEGAR CANTIDAD DE NUMEROS Y PROMEDIO DE LOS NUMEROS.."
      ]
    },
    {
      "cell_type": "code",
      "execution_count": null,
      "metadata": {
        "id": "BA0jW1k3Ogbg"
      },
      "outputs": [],
      "source": [
        "def opcion_3():\n",
        "    while True:\n",
        "        inicio = valida_num(\"Ingrese el inicio del rango: \", float('-inf'), float('inf'))\n",
        "        fin = valida_num(\"Ingrese el fin del rango: \", inicio, float('inf'))\n",
        "\n",
        "        numeros = [i for i in range(int(inicio), int(fin) + 1)]\n",
        "        cantidad = len(numeros)\n",
        "        promedio = sum(numeros) / cantidad\n",
        "\n",
        "        print(\"Cantidad de numeros en el rango: {}\".format(cantidad))\n",
        "        print(\"Promedio de los numeros en el rango: {}\".format(promedio))\n",
        "\n",
        "        continuar = input(\"¿Desea ingresar otro rango? (s/n): \")\n",
        "        if continuar.lower() != 's':\n",
        "            break"
      ]
    },
    {
      "cell_type": "markdown",
      "metadata": {
        "id": "2BX0CRNxPz0g"
      },
      "source": [
        "SFA_PY_4_ACT6\n",
        "\n",
        "4.- FUNCIÓN QUE RECIBA COMO PARÁMETRO LOS VALORES PARA EL ÁREA DE UN TRIANGULO Y RETORNE SU RESULTADO"
      ]
    },
    {
      "cell_type": "code",
      "execution_count": null,
      "metadata": {
        "id": "nW0aBl8xP0kA"
      },
      "outputs": [],
      "source": [
        "def opcion_4(base, altura):\n",
        "    area = (base * altura) / 2\n",
        "    return area"
      ]
    },
    {
      "cell_type": "markdown",
      "metadata": {
        "id": "hchC6LezP09o"
      },
      "source": [
        "SFA_PY_5_ACT6\n",
        "\n",
        "5.- FUNCION QUE SIRVA QUE SIRVA PARA EVALUAR EL PROMEDIO DE 3 CALIFICACIONES DADAS, SI EL USUARIO SU CALIFICACION ES APROBADA MANDAR MSGE QUE DIGA \"felicidades avanzas al siguiente semestre\", SI LA CALIFICACIONE ESTA REPROBADA EL MENSAGE \"repetir materia \" EL ALUMNO TENDRA UN MAXIMO DE CURSAR 3 VESES LA MATERIA, SI LA REPRUEBA 3 VESES MANDAR MSGE \" lastima estas fuera de la UABC\"\n",
        "\n"
      ]
    },
    {
      "cell_type": "code",
      "execution_count": null,
      "metadata": {
        "id": "CvjXYrVnP13f"
      },
      "outputs": [],
      "source": [
        "def opcion_5():\n",
        "    intentos = 0\n",
        "\n",
        "    while intentos < 3:\n",
        "        calificaciones = []\n",
        "        for i in range(3):\n",
        "            calificacion = valida_num(\"Ingrese la calificacion {}: \".format(i+1), 0, 100)\n",
        "            calificaciones.append(calificacion)\n",
        "\n",
        "        promedio = sum(calificaciones) / len(calificaciones)\n",
        "\n",
        "        if promedio >= 70:\n",
        "            print(\"Felicidades! Avanzas al siguiente semestre.\")\n",
        "            return\n",
        "        else:\n",
        "            print(\"Repetir materia.\")\n",
        "            intentos += 1\n",
        "\n",
        "    print(\"Lastima, estas fuera de la UABC.\")\n",
        "\n",
        "    return 0"
      ]
    },
    {
      "cell_type": "code",
      "execution_count": null,
      "metadata": {
        "colab": {
          "background_save": true,
          "base_uri": "https://localhost:8080/"
        },
        "id": "O71dAp-YP1kP",
        "outputId": "321bb3f3-2d10-4c98-e64c-d400bdd61a0a"
      },
      "outputs": [
        {
          "name": "stdout",
          "output_type": "stream",
          "text": [
            "Bienvenido al menu:\n",
            "1. Leer numeros y calcular.\n",
            "2. Generar 15 numeros impares entre 10 y 60 y calcular medias.\n",
            "3. Leer un rango y mostrar cantidad y promedio de numeros.\n",
            "4. Calcular area de un triangulo.\n",
            "5. Evaluar calificaciones.\n",
            "6. Salir.\n",
            "Suma de los numeros: 157.0\n",
            "Media de los numeros: 52.333333333333336\n",
            "Valor minimo: 45.0\n",
            "Valor maximo: 67.0\n",
            "Numeros impares generados:\n",
            "[19, 51, 49, 43, 57, 37, 25, 13, 41, 29, 17, 11, 15, 47, 59]\n",
            "Media de los numeros impares: 34.2\n",
            "Media de los numeros pares: 35.0\n",
            "Cantidad de numeros en el rango: 10\n",
            "Promedio de los numeros en el rango: 5.5\n",
            "Error: Por favor, ingrese un numero valido.\n",
            "El área del triangulo es: 112.5\n",
            "Error: Por favor, ingrese un numero entre 1 y 6.\n",
            "Error: Por favor, ingrese un numero entre 1 y 6.\n"
          ]
        }
      ],
      "source": [
        "def menu():\n",
        "    print(\"Bienvenido al menu:\")\n",
        "    print(\"1. Leer numeros y calcular.\")\n",
        "    print(\"2. Generar 15 numeros impares entre 10 y 60 y calcular medias.\")\n",
        "    print(\"3. Leer un rango y mostrar cantidad y promedio de numeros.\")\n",
        "    print(\"4. Calcular area de un triangulo.\")\n",
        "    print(\"5. Evaluar calificaciones.\")\n",
        "    print(\"6. Salir.\")\n",
        "\n",
        "    while True:\n",
        "        opcion = valida_num(\"Ingrese el número de la opcio56n que desea ejecutar: \", 1, 6)\n",
        "\n",
        "        if opcion == 1:\n",
        "            opcion_1()\n",
        "        elif opcion == 2:\n",
        "            opcion_2()\n",
        "        elif opcion == 3:\n",
        "            opcion_3()\n",
        "        elif opcion == 4:\n",
        "            base = valida_num(\"Ingrese la base del triangulo: \", 0, float('inf'))\n",
        "            altura = valida_num(\"Ingrese la altura del triangulo: \", 0, float('inf'))\n",
        "            print(\"El área del triangulo es: {}\".format(opcion_4(base, altura)))\n",
        "        elif opcion == 5:\n",
        "            opcion_5()\n",
        "        elif opcion == 6:\n",
        "            print(\"Gracias. ¡Hasta luego!\")\n",
        "            break\n",
        "menu()"
      ]
    }
  ],
  "metadata": {
    "colab": {
      "provenance": [],
      "authorship_tag": "ABX9TyPoSlXDBILm4YpSswWagEP1",
      "include_colab_link": true
    },
    "kernelspec": {
      "display_name": "Python 3",
      "name": "python3"
    },
    "language_info": {
      "name": "python"
    }
  },
  "nbformat": 4,
  "nbformat_minor": 0
}