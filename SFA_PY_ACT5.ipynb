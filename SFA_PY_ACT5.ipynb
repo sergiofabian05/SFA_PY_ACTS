{
  "nbformat": 4,
  "nbformat_minor": 0,
  "metadata": {
    "colab": {
      "provenance": [],
      "authorship_tag": "ABX9TyPM/YzvLDpPjLDxcSZfpn5G",
      "include_colab_link": true
    },
    "kernelspec": {
      "name": "python3",
      "display_name": "Python 3"
    },
    "language_info": {
      "name": "python"
    }
  },
  "cells": [
    {
      "cell_type": "markdown",
      "metadata": {
        "id": "view-in-github",
        "colab_type": "text"
      },
      "source": [
        "<a href=\"https://colab.research.google.com/github/sergiofabian05/SFA_PY_ACTS/blob/main/SFA_PY_ACT5.ipynb\" target=\"_parent\"><img src=\"https://colab.research.google.com/assets/colab-badge.svg\" alt=\"Open In Colab\"/></a>"
      ]
    },
    {
      "cell_type": "markdown",
      "source": [
        "SFA_PY_1_ACT5\n",
        "\n",
        "1.- Programa en Python que genere 40 números aleatorios entre el 0 y 200, desplegar los números y la leyenda de cada número si es par o impar , la cantidad de los números pares e impares así como la suma de los números pares o impares.\n",
        "\n"
      ],
      "metadata": {
        "id": "XB3427nsh9jC"
      }
    },
    {
      "cell_type": "code",
      "source": [
        "import random\n",
        "\n",
        "numeros = []\n",
        "canti_pares = 0\n",
        "canti_impares = 0\n",
        "suma_pares = 0\n",
        "suma_impares = 0\n",
        "\n",
        "try:\n",
        "    for _ in range(40):\n",
        "        numero = random.randint(0, 200)\n",
        "        numeros.append(numero)\n",
        "        if numero % 2 == 0:\n",
        "            print(f\"{numero} --> par\")\n",
        "            canti_pares += 1\n",
        "            suma_pares += numero\n",
        "        else:\n",
        "            print(f\"{numero} --> impar\")\n",
        "            canti_impares += 1\n",
        "            suma_impares += numero\n",
        "\n",
        "    print(f\"\\nCantidad de números pares: {canti_pares}\")\n",
        "    print(f\"Suma de números pares: {suma_pares}\")\n",
        "    print(f\"\\nCantidad de números impares: {canti_impares}\")\n",
        "    print(f\"Suma de números impares: {suma_impares}\")\n",
        "\n",
        "except Exception as e:\n",
        "    print(f\"Ocurrió un error: {e}\")\n"
      ],
      "metadata": {
        "colab": {
          "base_uri": "https://localhost:8080/"
        },
        "id": "K7Lb3MJJsI6Z",
        "outputId": "c1914451-793a-42b4-a862-edfbfa6a0254"
      },
      "execution_count": null,
      "outputs": [
        {
          "output_type": "stream",
          "name": "stdout",
          "text": [
            "1 --> impar\n",
            "20 --> par\n",
            "101 --> impar\n",
            "26 --> par\n",
            "85 --> impar\n",
            "179 --> impar\n",
            "119 --> impar\n",
            "167 --> impar\n",
            "139 --> impar\n",
            "88 --> par\n",
            "138 --> par\n",
            "186 --> par\n",
            "124 --> par\n",
            "42 --> par\n",
            "69 --> impar\n",
            "108 --> par\n",
            "116 --> par\n",
            "107 --> impar\n",
            "158 --> par\n",
            "147 --> impar\n",
            "87 --> impar\n",
            "28 --> par\n",
            "67 --> impar\n",
            "27 --> impar\n",
            "37 --> impar\n",
            "155 --> impar\n",
            "131 --> impar\n",
            "81 --> impar\n",
            "103 --> impar\n",
            "152 --> par\n",
            "57 --> impar\n",
            "183 --> impar\n",
            "155 --> impar\n",
            "84 --> par\n",
            "88 --> par\n",
            "83 --> impar\n",
            "5 --> impar\n",
            "14 --> par\n",
            "16 --> par\n",
            "90 --> par\n",
            "\n",
            "Cantidad de números pares: 17\n",
            "Suma de números pares: 1478\n",
            "\n",
            "Cantidad de números impares: 23\n",
            "Suma de números impares: 2285\n"
          ]
        }
      ]
    },
    {
      "cell_type": "markdown",
      "source": [],
      "metadata": {
        "id": "ezQVTZRqoSDK"
      }
    },
    {
      "cell_type": "markdown",
      "source": [
        "SFA_PY_2_ACT5\n",
        "\n",
        "2.- Programa en Python que despliegue la tabla de multiplicar de un número dado (número entre el 1 y 20).\n",
        "\n"
      ],
      "metadata": {
        "id": "E9Ryo7shh8Nq"
      }
    },
    {
      "cell_type": "code",
      "source": [
        "try:\n",
        "    n = int(input(\"INGRESA LA TABLA DEL MULTIPLICAR QUE DESEAS: \"))\n",
        "    if n <= 20:\n",
        "        print(f\"TABLA {n}:\")\n",
        "        for i in range(1, 11):\n",
        "            r = n * i\n",
        "            print(f\"{n}x{i} = {r}\")\n",
        "    else:\n",
        "        print(\"VALOR NO VALIDO\")\n",
        "except ValueError:\n",
        "    print(\"EL VALOR INGRESADO ES NEGATIVO\")\n"
      ],
      "metadata": {
        "id": "8TkhInJfiXp7",
        "colab": {
          "base_uri": "https://localhost:8080/"
        },
        "outputId": "046829d1-fe6f-415b-adb3-175a588ee63c"
      },
      "execution_count": null,
      "outputs": [
        {
          "output_type": "stream",
          "name": "stdout",
          "text": [
            "INGRESA LA TABLA DEL MULTIPLICAR QUE DESEAS: 5\n",
            "TABLA 5:\n",
            "5x1 = 5\n",
            "5x2 = 10\n",
            "5x3 = 15\n",
            "5x4 = 20\n",
            "5x5 = 25\n",
            "5x6 = 30\n",
            "5x7 = 35\n",
            "5x8 = 40\n",
            "5x9 = 45\n",
            "5x10 = 50\n"
          ]
        }
      ]
    },
    {
      "cell_type": "markdown",
      "source": [
        "SFA_PY_3_ACT5\n",
        "\n",
        "3.- Programa en Python que lea una calificación, las calificación deberá estar en el rango de 0 a 100, si hay un error de captura, mostrar mensaje de error. con la calificación correcta mostrar msg de aprobado reprobado."
      ],
      "metadata": {
        "id": "zYHFgDDQijB8"
      }
    },
    {
      "cell_type": "code",
      "source": [
        "while True:\n",
        "    try:\n",
        "        cal = float(input(\"Ingrese la calificación: \"))\n",
        "        if 0 <= cal <= 100:\n",
        "            r = \"Aprobado\" if cal >= 60 else \"Reprobado\"\n",
        "            print(f\"La calificación {cal} esta {r}.\")\n",
        "            break\n",
        "        else:\n",
        "            print(\"Error: La calificación debe estar en el rango de 0 a 100.\")\n",
        "    except:\n",
        "        print(\"Error: Ingresa una calificación válida.\")\n"
      ],
      "metadata": {
        "colab": {
          "base_uri": "https://localhost:8080/"
        },
        "id": "cHnQrMt0ijny",
        "outputId": "7c77eda5-280d-4489-8d94-94eb5718f667"
      },
      "execution_count": null,
      "outputs": [
        {
          "output_type": "stream",
          "name": "stdout",
          "text": [
            "Ingrese la calificación: 5\n",
            "La calificación 5.0 esta Reprobado.\n"
          ]
        }
      ]
    },
    {
      "cell_type": "markdown",
      "source": [
        "SFA_PY_4_ACT5\n",
        "\n",
        "4.- Programa en Python que lea n cantidad de números enteros dentro de un rango dado (> 0 ) , el programa deberá terminar cuando el usuario introduzca el número cero.\n",
        "\n",
        "desplegar la suma de números y la media.\n",
        "\n"
      ],
      "metadata": {
        "id": "IOYRrz6GisMT"
      }
    },
    {
      "cell_type": "code",
      "source": [
        "suma_num = 0\n",
        "canti_num = 0\n",
        "\n",
        "while True:\n",
        "    try:\n",
        "        r_min = int(input(\"Ingrese el valor mínimo del rango (> 0): \"))\n",
        "        if r_min <= 0:\n",
        "            print(\"El valor mínimo debe ser mayor que cero.\")\n",
        "        else:\n",
        "            break\n",
        "    except:\n",
        "        print(\"Error: Ingrese un valor entero válido para el rango.\")\n",
        "\n",
        "while True:\n",
        "    numero = int(input(f\"Ingrese un número dentro del rango {r_min} - infinito), o '0' para terminar: \"))\n",
        "    if numero == 0:\n",
        "        break\n",
        "    if numero < r_min:\n",
        "        print(\"El número está fuera del rango especificado.\")\n",
        "        continue\n",
        "\n",
        "    suma_num += numero\n",
        "    canti_num += 1\n",
        "\n",
        "if canti_num > 0:\n",
        "    media = suma_num / canti_num\n",
        "    print(f\"Suma de los números: {suma_num}\")\n",
        "    print(f\"Media de los números: {media}\")\n",
        "else:\n",
        "    print(\"No se ingresaron números válidos.\")\n"
      ],
      "metadata": {
        "id": "YiZvRtRNisuC",
        "colab": {
          "base_uri": "https://localhost:8080/"
        },
        "outputId": "322172c6-30eb-4f7b-aac4-3769cd092d73"
      },
      "execution_count": null,
      "outputs": [
        {
          "output_type": "stream",
          "name": "stdout",
          "text": [
            "Ingrese el valor mínimo del rango (> 0): 0\n",
            "El valor mínimo debe ser mayor que cero.\n",
            "Ingrese el valor mínimo del rango (> 0): 0\n",
            "El valor mínimo debe ser mayor que cero.\n",
            "Ingrese el valor mínimo del rango (> 0): 3\n",
            "Ingrese un número dentro del rango 3 - infinito), o '0' para terminar: 45\n",
            "Ingrese un número dentro del rango 3 - infinito), o '0' para terminar: 43\n",
            "Ingrese un número dentro del rango 3 - infinito), o '0' para terminar: 4\n",
            "Ingrese un número dentro del rango 3 - infinito), o '0' para terminar: 0\n",
            "Suma de los números: 92\n",
            "Media de los números: 30.666666666666668\n"
          ]
        }
      ]
    },
    {
      "cell_type": "markdown",
      "source": [
        "SFA_PY_5_ACT5\n",
        "\n",
        "5.- Programa en Python que sirva para leer el promedio de una materia. donde el usuario tendrá un máximo de 3 oportunidades de cursar la materia, si el promedio es aprobado, felicitarlo y continuar el siguiente semestre, si promedio es reprobado deberá salir mensaje de repetir materia o es baja académica si ha reprobado 3 veces."
      ],
      "metadata": {
        "id": "SE77bPcziynS"
      }
    },
    {
      "cell_type": "code",
      "source": [
        "intentos_max = 3\n",
        "\n",
        "while intentos_max > 0:\n",
        "    try:\n",
        "        promedio = float(input(\"Ingrese el promedio de la materia: \"))\n",
        "        if promedio >= 60:\n",
        "            print(f\"Felicidades, has aprobado con un promedio de {promedio}!\")\n",
        "            break\n",
        "        else:\n",
        "            intentos_max -= 1\n",
        "            if intentos_max == 0:\n",
        "                print(\"Lo siento, has reprobado la materia tres veces. Es una baja académica.\")\n",
        "            else:\n",
        "                print(f\"Tu promedio es {promedio}. Debes repetir la materia. Te quedan {intentos_max} intentos.\")\n",
        "    except:\n",
        "        print(\"Error: Ingresa un promedio válido.\")"
      ],
      "metadata": {
        "id": "1B71s-EWizIS",
        "colab": {
          "base_uri": "https://localhost:8080/"
        },
        "outputId": "3c20d3b0-f669-49c5-afd9-5c729dc15d24"
      },
      "execution_count": null,
      "outputs": [
        {
          "output_type": "stream",
          "name": "stdout",
          "text": [
            "Ingrese el promedio de la materia: 45\n",
            "Tu promedio es 45.0. Debes repetir la materia. Te quedan 2 intentos.\n",
            "Ingrese el promedio de la materia: 56\n",
            "Tu promedio es 56.0. Debes repetir la materia. Te quedan 1 intentos.\n",
            "Ingrese el promedio de la materia: 77\n",
            "Felicidades, has aprobado con un promedio de 77.0!\n"
          ]
        }
      ]
    },
    {
      "cell_type": "markdown",
      "source": [
        "SFA_PY_1_ACT5.PART2\n",
        "\n",
        "1.- función que lea n cantidad de números hasta que el usuario lo desee, desplegar la suma de los números, media y valor de los números mayores y menores."
      ],
      "metadata": {
        "id": "fMp2rpVHk4wd"
      }
    },
    {
      "cell_type": "code",
      "source": [
        "suma_numeros = 0\n",
        "canti_num = 0\n",
        "valor_max = float('-inf')\n",
        "valor_min = float('inf')\n",
        "\n",
        "while True:\n",
        "    try:\n",
        "        numero = input(\"Ingrese un número o 'i' para terminar: \")\n",
        "        if numero.lower() == 'i':\n",
        "            break\n",
        "        numero = float(numero)\n",
        "        suma_numeros += numero\n",
        "        canti_num += 1\n",
        "        if numero > valor_max:\n",
        "            valor_max = numero\n",
        "        if numero < valor_min:\n",
        "            valor_min = numero\n",
        "    except:\n",
        "        print(\"Error: Ingrese un número válido.\")\n",
        "\n",
        "if canti_num:\n",
        "    media = suma_numeros / canti_num\n",
        "    print(f\"Suma de los números: {suma_numeros}\")\n",
        "    print(f\"Media de los números: {media}\")\n",
        "    print(f\"Valor máximo: {valor_max}\")\n",
        "    print(f\"Valor mínimo: {valor_min}\")\n",
        "else:\n",
        "    print(\"No se ingresaron números.\")\n"
      ],
      "metadata": {
        "colab": {
          "base_uri": "https://localhost:8080/"
        },
        "id": "OSczu886k5S1",
        "outputId": "455af261-7dcb-424c-8b1b-03d6da40303d"
      },
      "execution_count": null,
      "outputs": [
        {
          "output_type": "stream",
          "name": "stdout",
          "text": [
            "Ingrese un número o 'i' para terminar: 56\n",
            "Ingrese un número o 'i' para terminar: 54\n",
            "Ingrese un número o 'i' para terminar: 57\n",
            "Ingrese un número o 'i' para terminar: i\n",
            "Suma de los números: 167.0\n",
            "Media de los números: 55.666666666666664\n",
            "Valor máximo: 57.0\n",
            "Valor mínimo: 54.0\n"
          ]
        }
      ]
    },
    {
      "cell_type": "markdown",
      "source": [
        "SFA_PY_2_ACT5.PART2\n",
        "\n",
        "2.- función que genere 15 números impares entre 10 y 60 o máximo de 25 números. desplegar la media de los pares y media de impares."
      ],
      "metadata": {
        "id": "tYFNZfaSk7Ec"
      }
    },
    {
      "cell_type": "code",
      "source": [
        "import random\n",
        "\n",
        "suma_pares = 0\n",
        "canti_pares = 0\n",
        "suma_impares = 0\n",
        "canti_impares = 0\n",
        "numeros_pares = []\n",
        "numeros_impares = []\n",
        "\n",
        "try:\n",
        "    for _ in range(25):\n",
        "        num = random.randint(10, 60)\n",
        "        if canti_pares + canti_impares == 25:\n",
        "            break\n",
        "        if num % 2 == 0:\n",
        "            suma_pares += num\n",
        "            canti_pares += 1\n",
        "            numeros_pares.append(num)\n",
        "        else:\n",
        "            suma_impares += num\n",
        "            canti_impares += 1\n",
        "            numeros_impares.append(num)\n",
        "\n",
        "    if canti_pares:\n",
        "        media_pares = suma_pares / canti_pares\n",
        "        print(f\"La media de los números pares generados {numeros_pares} es {media_pares}.\")\n",
        "    else:\n",
        "        print(\"No se generaron números pares.\")\n",
        "\n",
        "    if canti_impares:\n",
        "        media_impares = suma_impares / canti_impares\n",
        "        print(f\"La media de los números impares generados {numeros_impares} es {media_impares}.\")\n",
        "    else:\n",
        "        print(\"No se generaron números impares.\")\n",
        "\n",
        "except:\n",
        "    print(\"Error: Hubo un problema al generar los números aleatorios.\")\n"
      ],
      "metadata": {
        "colab": {
          "base_uri": "https://localhost:8080/"
        },
        "id": "oUCXQxwkk679",
        "outputId": "8fe6de14-f40e-4317-d39c-93f61ebbc69c"
      },
      "execution_count": null,
      "outputs": [
        {
          "output_type": "stream",
          "name": "stdout",
          "text": [
            "La media de los números pares generados [60, 22, 26, 30, 12, 34, 52, 56, 52, 26, 52] es 38.36363636363637.\n",
            "La media de los números impares generados [13, 13, 17, 37, 21, 29, 51, 41, 19, 33, 53, 11, 45, 59] es 31.571428571428573.\n"
          ]
        }
      ]
    },
    {
      "cell_type": "markdown",
      "source": [
        "SFA_PY_3_ACT5.PART2\n",
        "\n",
        "3.- función que sirva para leer y validar un número dentro de un rango dado por el usuario. repetir esta acción hasta que el usuario lo desee, desplegar cantidad de números y promedio de los números."
      ],
      "metadata": {
        "id": "buaAMxYIk6z0"
      }
    },
    {
      "cell_type": "code",
      "source": [
        "suma_num = 0\n",
        "canti_num = 0\n",
        "\n",
        "while True:\n",
        "    try:\n",
        "        ra_min = float(input(\"Ingrese el valor mínimo del rango: \"))\n",
        "        r_max = float(input(\"Ingrese el valor máximo del rango: \"))\n",
        "        if r_min <= r_max:\n",
        "            break\n",
        "        else:\n",
        "            print(\"Error: El valor mínimo del rango debe ser menor o igual al valor máximo del rango.\")\n",
        "    except:\n",
        "        print(\"Error: Ingrese valores numéricos válidos para los rangos.\")\n",
        "\n",
        "while True:\n",
        "    try:\n",
        "        numero = input(f\"Ingrese un número dentro del rango ({r_min} - {r_max}), o 'q' para terminar: \")\n",
        "        if numero == 'q':\n",
        "            break\n",
        "        numero = float(numero)\n",
        "        if r_min <= numero <= r_max:\n",
        "            suma_num += numero\n",
        "            canti_num += 1\n",
        "        else:\n",
        "            print(f\"Error: El número debe estar dentro del rango ({r_min} - {r_max}).\")\n",
        "    except:\n",
        "        print(\"Error: Ingrese un número válido.\")\n",
        "\n",
        "if canti_num > 0:\n",
        "    p = suma_num / canti_num\n",
        "    print(f\"Se ingresaron {canti_num} números.\")\n",
        "    print(f\"El promedio de los números es {p}.\")\n",
        "else:\n",
        "    print(\"No se ingresaron números.\")\n"
      ],
      "metadata": {
        "colab": {
          "base_uri": "https://localhost:8080/"
        },
        "id": "tGgjtyryk6pc",
        "outputId": "d5632110-d0db-4d50-eeb2-bb70974c9776"
      },
      "execution_count": null,
      "outputs": [
        {
          "output_type": "stream",
          "name": "stdout",
          "text": [
            "Ingrese el valor mínimo del rango: 4\n",
            "Ingrese el valor máximo del rango: 56\n",
            "Ingrese un número dentro del rango (5.0 - 56.0), o 'q' para terminar: 5\n",
            "Ingrese un número dentro del rango (5.0 - 56.0), o 'q' para terminar: 4\n",
            "Error: El número debe estar dentro del rango (5.0 - 56.0).\n",
            "Ingrese un número dentro del rango (5.0 - 56.0), o 'q' para terminar: 3\n",
            "Error: El número debe estar dentro del rango (5.0 - 56.0).\n",
            "Ingrese un número dentro del rango (5.0 - 56.0), o 'q' para terminar: 4\n",
            "Error: El número debe estar dentro del rango (5.0 - 56.0).\n",
            "Ingrese un número dentro del rango (5.0 - 56.0), o 'q' para terminar: 45\n",
            "Ingrese un número dentro del rango (5.0 - 56.0), o 'q' para terminar: 56\n",
            "Ingrese un número dentro del rango (5.0 - 56.0), o 'q' para terminar: 23\n",
            "Ingrese un número dentro del rango (5.0 - 56.0), o 'q' para terminar: 12\n",
            "Ingrese un número dentro del rango (5.0 - 56.0), o 'q' para terminar: q\n",
            "Se ingresaron 5 números.\n",
            "El promedio de los números es 28.2.\n"
          ]
        }
      ]
    },
    {
      "cell_type": "markdown",
      "source": [
        "SFA_PY_4_ACT5.PART2\n",
        "\n",
        "4.- función que reciba como parámetro los valores para el área de un triángulo y retorne su resultado\n",
        "\n"
      ],
      "metadata": {
        "id": "J_jPC1Tnk6as"
      }
    },
    {
      "cell_type": "code",
      "source": [
        "for _ in range(3):\n",
        "    try:\n",
        "        base = float(input(\"Ingrese la longitud de la base del triángulo: \"))\n",
        "        altura = float(input(\"Ingrese la altura del triángulo: \"))\n",
        "\n",
        "        area = 0.5 * base * altura\n",
        "        print(f\"El área del triángulo con base {base} y altura {altura} es: {area}\")\n",
        "        break\n",
        "    except:\n",
        "        print(\"Error: Ingrese valores numéricos válidos para la base y la altura.\")\n",
        "\n",
        "print(\"Se han agotado los intentos.\")\n"
      ],
      "metadata": {
        "colab": {
          "base_uri": "https://localhost:8080/"
        },
        "id": "Z7hdPdSOk6J0",
        "outputId": "2d7bb30c-0cc8-44c8-cacf-83eb8c157c41"
      },
      "execution_count": null,
      "outputs": [
        {
          "output_type": "stream",
          "name": "stdout",
          "text": [
            "Ingrese la longitud de la base del triángulo: 45\n",
            "Ingrese la altura del triángulo: 65\n",
            "El área del triángulo con base 45.0 y altura 65.0 es: 1462.5\n",
            "Se han agotado los intentos.\n"
          ]
        }
      ]
    },
    {
      "cell_type": "markdown",
      "source": [
        "SFA_PY_5_ACT5.PART2\n",
        "\n",
        "5.- función que sirva para validar un número dentro de un rango dado."
      ],
      "metadata": {
        "id": "gqIMWGXWk54E"
      }
    },
    {
      "cell_type": "code",
      "source": [
        "rango_min = 10\n",
        "rango_max = 50\n",
        "\n",
        "for _ in range(3):\n",
        "  try:\n",
        "      num = float(input(\"Ingrese un número: \"))\n",
        "      if rango_min <= num <= rango_max:\n",
        "            print(f\"El número {num} está dentro del rango.\")\n",
        "            break\n",
        "      else:\n",
        "            print(f\"El número {num} está fuera del rango ({rango_min} - {rango_max}).\")\n",
        "  except:\n",
        "        print(\"Error: Ingrese un número válido.\")\n",
        "\n",
        "print(\"Se han agotado los intentos.\")\n"
      ],
      "metadata": {
        "colab": {
          "base_uri": "https://localhost:8080/"
        },
        "id": "VoBbi_RMk2Rn",
        "outputId": "23609cda-88c3-491a-a47d-0f39b600d345"
      },
      "execution_count": null,
      "outputs": [
        {
          "output_type": "stream",
          "name": "stdout",
          "text": [
            "Ingrese un número: 6\n",
            "El número 6.0 está fuera del rango (10 - 50).\n",
            "Ingrese un número: 5\n",
            "El número 5.0 está fuera del rango (10 - 50).\n",
            "Ingrese un número: 34\n",
            "El número 34.0 está dentro del rango.\n",
            "Se han agotado los intentos.\n"
          ]
        }
      ]
    }
  ]
}